{
 "cells": [
  {
   "cell_type": "markdown",
   "metadata": {},
   "source": [
    "# Training dormain specific Word2Vec word embeddings with Gensim"
   ]
  },
  {
   "cell_type": "code",
   "execution_count": 1,
   "metadata": {},
   "outputs": [
    {
     "name": "stderr",
     "output_type": "stream",
     "text": [
      "C:\\Users\\alber\\Anaconda3\\lib\\site-packages\\gensim\\utils.py:1212: UserWarning: detected Windows; aliasing chunkize to chunkize_serial\n",
      "  warnings.warn(\"detected Windows; aliasing chunkize to chunkize_serial\")\n"
     ]
    }
   ],
   "source": [
    "import re  # For preprocessing\n",
    "import pandas as pd  # For data handling\n",
    "from time import time  # To time our operations\n",
    "from collections import defaultdict  # For word frequency\n",
    "from nltk.tokenize import RegexpTokenizer\n",
    "import multiprocessing\n",
    "\n",
    "from gensim.models import Word2Vec\n",
    "\n",
    "import logging  # Setting up the loggings to monitor gensim\n",
    "logging.basicConfig(format=\"%(levelname)s - %(asctime)s: %(message)s\", datefmt= '%H:%M:%S', level=logging.INFO)"
   ]
  },
  {
   "cell_type": "code",
   "execution_count": 2,
   "metadata": {},
   "outputs": [],
   "source": [
    "pd.set_option('max_colwidth', 1000)\n",
    "pd.options.display.max_rows = 500\n",
    "# Read file\n",
    "df = pd.read_pickle('df_orig.pkl')"
   ]
  },
  {
   "cell_type": "code",
   "execution_count": 3,
   "metadata": {},
   "outputs": [
    {
     "data": {
      "text/plain": [
       "(66806, 2)"
      ]
     },
     "execution_count": 3,
     "metadata": {},
     "output_type": "execute_result"
    }
   ],
   "source": [
    "df.shape"
   ]
  },
  {
   "cell_type": "code",
   "execution_count": 4,
   "metadata": {},
   "outputs": [
    {
     "data": {
      "text/html": [
       "<div>\n",
       "<style scoped>\n",
       "    .dataframe tbody tr th:only-of-type {\n",
       "        vertical-align: middle;\n",
       "    }\n",
       "\n",
       "    .dataframe tbody tr th {\n",
       "        vertical-align: top;\n",
       "    }\n",
       "\n",
       "    .dataframe thead th {\n",
       "        text-align: right;\n",
       "    }\n",
       "</style>\n",
       "<table border=\"1\" class=\"dataframe\">\n",
       "  <thead>\n",
       "    <tr style=\"text-align: right;\">\n",
       "      <th></th>\n",
       "      <th>Doc_Id</th>\n",
       "      <th>consumer_complaint_narrative</th>\n",
       "    </tr>\n",
       "  </thead>\n",
       "  <tbody>\n",
       "    <tr>\n",
       "      <th>190126</th>\n",
       "      <td>0</td>\n",
       "      <td>XXXX has claimed I owe them {$27.00} for XXXX years despite the PROOF of PAYMENT I sent them : canceled check and their ownPAID INVOICE for {$27.00}! \\nThey continue to insist I owe them and collection agencies are after me. \\nHow can I stop this harassment for a bill I already paid four years ago? \\n</td>\n",
       "    </tr>\n",
       "    <tr>\n",
       "      <th>190135</th>\n",
       "      <td>1</td>\n",
       "      <td>Due to inconsistencies in the amount owed that I was told by M &amp; T Bank and the amount that was reported to the credit reporting agencies, I was advised to write a good will letter in order to address the issue and request the negative entry be removed from my credit report all together. I had a vehicle that was stolen and it was declared a total loss by insurance company. The insurance company and the GAP insurancw companypaid the outstanding balance of the loan, but I was told by M &amp; T Bank that there was still a balance due on the loan. In good faith, without having received any proof as to why there was still a balance, I made a partial payment towards the remaining debt. I then sent the goodwill letter still offering to pay the remainder of the debt, but in exchange for the removal of the negative entry on my credit report. At one point, in XXXX 2015, per my credit monitoring agency, it showed a delinquent balance of {$0.00}, but when I checked my credit report again on XXXX X...</td>\n",
       "    </tr>\n",
       "    <tr>\n",
       "      <th>190155</th>\n",
       "      <td>2</td>\n",
       "      <td>In XX/XX/XXXX my wages that I earned at my job decreased by almost half, by XX/XX/XXXX I knew I was in trouble with my home loan. I began contacting WFB whom my home loan is with, for assitance and options. \\nIn early XX/XX/XXXX I began the Loan Modification process with Wells Fargo Bank. I was told that they would not assist me with anything financial on my home loan until I fell 90 days behind, though at the time I started to inquire for assistance from WFB I was only a few weeks behind. So, I began working with a program called XXXX. They approved me for a variety of assistence and reached out to Wells Fargo Bank to determine what they could assist with. Wells Fargo then turned down the assistance from XXXX and finally offered to do a Loan Modification for me. The outcome was totally unknow about what I would be offered in the end by WFB for assistance. Wells Fargo lost my paperwork twice during this process, so it took 2 months from the time I started to the time my paperwork b...</td>\n",
       "    </tr>\n",
       "    <tr>\n",
       "      <th>190207</th>\n",
       "      <td>3</td>\n",
       "      <td>I have an open and current mortgage with Chase Bank # XXXX. Chase is reporting the loan payments to XXXX but XXXX is surpressing the information and reporting the loan as Discharged in BK. This mortgage was reaffirmed in a Chapter XXXX BK discharged dated XXXX/XXXX/2013. Chase keeps referring to BK Law for Chapter XXXX and we keep providing documentation for Chapter XXXX, and the account should be open and current with all the payments \\n</td>\n",
       "    </tr>\n",
       "    <tr>\n",
       "      <th>190208</th>\n",
       "      <td>4</td>\n",
       "      <td>XXXX was submitted XX/XX/XXXX. At the time I submitted this complaint, I had dealt with Rushmore Mortgage directly endeavoring to get them to stop the continuous daily calls I was receiving trying to collect on a mortgage for which I was not responsible due to bankruptcy. They denied having knowledge of the bankruptcy, even though I had spoken with them about it repeatedly and had written them repeatedly referencing the bankruptcy requesting them to cease the pursuit, they continued to do so. When they were unable to trick me into paying, force me into paying in retaliation they placed reported to my credit bureaus a past due mortgage amount that had been discharged in Federal Court. On XX/XX/XXXX Rushmore responded the referenced complaint indicating that they would remove the reporting from my bureau, yet it is still there now in XX/XX/XXXX. I would like them to remove it immediately and send me a letter indicating that it should not have been there in the first place and they ar...</td>\n",
       "    </tr>\n",
       "  </tbody>\n",
       "</table>\n",
       "</div>"
      ],
      "text/plain": [
       "        Doc_Id  \\\n",
       "190126       0   \n",
       "190135       1   \n",
       "190155       2   \n",
       "190207       3   \n",
       "190208       4   \n",
       "\n",
       "                                                                                                                                                                                                                                                                                                                                                                                                                                                                                                                                                                                                                                                                                                                                                                                                                                                                                                                                                                                                                   consumer_complaint_narrative  \n",
       "190126                                                                                                                                                                                                                                                                                                                                                                                                                                                                                                                                                                                                                                                                                                                           XXXX has claimed I owe them {$27.00} for XXXX years despite the PROOF of PAYMENT I sent them : canceled check and their ownPAID INVOICE for {$27.00}! \\nThey continue to insist I owe them and collection agencies are after me. \\nHow can I stop this harassment for a bill I already paid four years ago? \\n  \n",
       "190135  Due to inconsistencies in the amount owed that I was told by M & T Bank and the amount that was reported to the credit reporting agencies, I was advised to write a good will letter in order to address the issue and request the negative entry be removed from my credit report all together. I had a vehicle that was stolen and it was declared a total loss by insurance company. The insurance company and the GAP insurancw companypaid the outstanding balance of the loan, but I was told by M & T Bank that there was still a balance due on the loan. In good faith, without having received any proof as to why there was still a balance, I made a partial payment towards the remaining debt. I then sent the goodwill letter still offering to pay the remainder of the debt, but in exchange for the removal of the negative entry on my credit report. At one point, in XXXX 2015, per my credit monitoring agency, it showed a delinquent balance of {$0.00}, but when I checked my credit report again on XXXX X...  \n",
       "190155  In XX/XX/XXXX my wages that I earned at my job decreased by almost half, by XX/XX/XXXX I knew I was in trouble with my home loan. I began contacting WFB whom my home loan is with, for assitance and options. \\nIn early XX/XX/XXXX I began the Loan Modification process with Wells Fargo Bank. I was told that they would not assist me with anything financial on my home loan until I fell 90 days behind, though at the time I started to inquire for assistance from WFB I was only a few weeks behind. So, I began working with a program called XXXX. They approved me for a variety of assistence and reached out to Wells Fargo Bank to determine what they could assist with. Wells Fargo then turned down the assistance from XXXX and finally offered to do a Loan Modification for me. The outcome was totally unknow about what I would be offered in the end by WFB for assistance. Wells Fargo lost my paperwork twice during this process, so it took 2 months from the time I started to the time my paperwork b...  \n",
       "190207                                                                                                                                                                                                                                                                                                                                                                                                                                                                                                                                                                               I have an open and current mortgage with Chase Bank # XXXX. Chase is reporting the loan payments to XXXX but XXXX is surpressing the information and reporting the loan as Discharged in BK. This mortgage was reaffirmed in a Chapter XXXX BK discharged dated XXXX/XXXX/2013. Chase keeps referring to BK Law for Chapter XXXX and we keep providing documentation for Chapter XXXX, and the account should be open and current with all the payments \\n  \n",
       "190208  XXXX was submitted XX/XX/XXXX. At the time I submitted this complaint, I had dealt with Rushmore Mortgage directly endeavoring to get them to stop the continuous daily calls I was receiving trying to collect on a mortgage for which I was not responsible due to bankruptcy. They denied having knowledge of the bankruptcy, even though I had spoken with them about it repeatedly and had written them repeatedly referencing the bankruptcy requesting them to cease the pursuit, they continued to do so. When they were unable to trick me into paying, force me into paying in retaliation they placed reported to my credit bureaus a past due mortgage amount that had been discharged in Federal Court. On XX/XX/XXXX Rushmore responded the referenced complaint indicating that they would remove the reporting from my bureau, yet it is still there now in XX/XX/XXXX. I would like them to remove it immediately and send me a letter indicating that it should not have been there in the first place and they ar...  "
      ]
     },
     "execution_count": 4,
     "metadata": {},
     "output_type": "execute_result"
    }
   ],
   "source": [
    "df.head()"
   ]
  },
  {
   "cell_type": "code",
   "execution_count": 5,
   "metadata": {},
   "outputs": [],
   "source": [
    "df=df.reset_index(drop=True)"
   ]
  },
  {
   "cell_type": "code",
   "execution_count": 6,
   "metadata": {},
   "outputs": [
    {
     "data": {
      "text/html": [
       "<div>\n",
       "<style scoped>\n",
       "    .dataframe tbody tr th:only-of-type {\n",
       "        vertical-align: middle;\n",
       "    }\n",
       "\n",
       "    .dataframe tbody tr th {\n",
       "        vertical-align: top;\n",
       "    }\n",
       "\n",
       "    .dataframe thead th {\n",
       "        text-align: right;\n",
       "    }\n",
       "</style>\n",
       "<table border=\"1\" class=\"dataframe\">\n",
       "  <thead>\n",
       "    <tr style=\"text-align: right;\">\n",
       "      <th></th>\n",
       "      <th>Doc_Id</th>\n",
       "      <th>consumer_complaint_narrative</th>\n",
       "    </tr>\n",
       "  </thead>\n",
       "  <tbody>\n",
       "    <tr>\n",
       "      <th>0</th>\n",
       "      <td>0</td>\n",
       "      <td>XXXX has claimed I owe them {$27.00} for XXXX years despite the PROOF of PAYMENT I sent them : canceled check and their ownPAID INVOICE for {$27.00}! \\nThey continue to insist I owe them and collection agencies are after me. \\nHow can I stop this harassment for a bill I already paid four years ago? \\n</td>\n",
       "    </tr>\n",
       "    <tr>\n",
       "      <th>1</th>\n",
       "      <td>1</td>\n",
       "      <td>Due to inconsistencies in the amount owed that I was told by M &amp; T Bank and the amount that was reported to the credit reporting agencies, I was advised to write a good will letter in order to address the issue and request the negative entry be removed from my credit report all together. I had a vehicle that was stolen and it was declared a total loss by insurance company. The insurance company and the GAP insurancw companypaid the outstanding balance of the loan, but I was told by M &amp; T Bank that there was still a balance due on the loan. In good faith, without having received any proof as to why there was still a balance, I made a partial payment towards the remaining debt. I then sent the goodwill letter still offering to pay the remainder of the debt, but in exchange for the removal of the negative entry on my credit report. At one point, in XXXX 2015, per my credit monitoring agency, it showed a delinquent balance of {$0.00}, but when I checked my credit report again on XXXX X...</td>\n",
       "    </tr>\n",
       "    <tr>\n",
       "      <th>2</th>\n",
       "      <td>2</td>\n",
       "      <td>In XX/XX/XXXX my wages that I earned at my job decreased by almost half, by XX/XX/XXXX I knew I was in trouble with my home loan. I began contacting WFB whom my home loan is with, for assitance and options. \\nIn early XX/XX/XXXX I began the Loan Modification process with Wells Fargo Bank. I was told that they would not assist me with anything financial on my home loan until I fell 90 days behind, though at the time I started to inquire for assistance from WFB I was only a few weeks behind. So, I began working with a program called XXXX. They approved me for a variety of assistence and reached out to Wells Fargo Bank to determine what they could assist with. Wells Fargo then turned down the assistance from XXXX and finally offered to do a Loan Modification for me. The outcome was totally unknow about what I would be offered in the end by WFB for assistance. Wells Fargo lost my paperwork twice during this process, so it took 2 months from the time I started to the time my paperwork b...</td>\n",
       "    </tr>\n",
       "    <tr>\n",
       "      <th>3</th>\n",
       "      <td>3</td>\n",
       "      <td>I have an open and current mortgage with Chase Bank # XXXX. Chase is reporting the loan payments to XXXX but XXXX is surpressing the information and reporting the loan as Discharged in BK. This mortgage was reaffirmed in a Chapter XXXX BK discharged dated XXXX/XXXX/2013. Chase keeps referring to BK Law for Chapter XXXX and we keep providing documentation for Chapter XXXX, and the account should be open and current with all the payments \\n</td>\n",
       "    </tr>\n",
       "    <tr>\n",
       "      <th>4</th>\n",
       "      <td>4</td>\n",
       "      <td>XXXX was submitted XX/XX/XXXX. At the time I submitted this complaint, I had dealt with Rushmore Mortgage directly endeavoring to get them to stop the continuous daily calls I was receiving trying to collect on a mortgage for which I was not responsible due to bankruptcy. They denied having knowledge of the bankruptcy, even though I had spoken with them about it repeatedly and had written them repeatedly referencing the bankruptcy requesting them to cease the pursuit, they continued to do so. When they were unable to trick me into paying, force me into paying in retaliation they placed reported to my credit bureaus a past due mortgage amount that had been discharged in Federal Court. On XX/XX/XXXX Rushmore responded the referenced complaint indicating that they would remove the reporting from my bureau, yet it is still there now in XX/XX/XXXX. I would like them to remove it immediately and send me a letter indicating that it should not have been there in the first place and they ar...</td>\n",
       "    </tr>\n",
       "  </tbody>\n",
       "</table>\n",
       "</div>"
      ],
      "text/plain": [
       "   Doc_Id  \\\n",
       "0       0   \n",
       "1       1   \n",
       "2       2   \n",
       "3       3   \n",
       "4       4   \n",
       "\n",
       "                                                                                                                                                                                                                                                                                                                                                                                                                                                                                                                                                                                                                                                                                                                                                                                                                                                                                                                                                                                                              consumer_complaint_narrative  \n",
       "0                                                                                                                                                                                                                                                                                                                                                                                                                                                                                                                                                                                                                                                                                                                           XXXX has claimed I owe them {$27.00} for XXXX years despite the PROOF of PAYMENT I sent them : canceled check and their ownPAID INVOICE for {$27.00}! \\nThey continue to insist I owe them and collection agencies are after me. \\nHow can I stop this harassment for a bill I already paid four years ago? \\n  \n",
       "1  Due to inconsistencies in the amount owed that I was told by M & T Bank and the amount that was reported to the credit reporting agencies, I was advised to write a good will letter in order to address the issue and request the negative entry be removed from my credit report all together. I had a vehicle that was stolen and it was declared a total loss by insurance company. The insurance company and the GAP insurancw companypaid the outstanding balance of the loan, but I was told by M & T Bank that there was still a balance due on the loan. In good faith, without having received any proof as to why there was still a balance, I made a partial payment towards the remaining debt. I then sent the goodwill letter still offering to pay the remainder of the debt, but in exchange for the removal of the negative entry on my credit report. At one point, in XXXX 2015, per my credit monitoring agency, it showed a delinquent balance of {$0.00}, but when I checked my credit report again on XXXX X...  \n",
       "2  In XX/XX/XXXX my wages that I earned at my job decreased by almost half, by XX/XX/XXXX I knew I was in trouble with my home loan. I began contacting WFB whom my home loan is with, for assitance and options. \\nIn early XX/XX/XXXX I began the Loan Modification process with Wells Fargo Bank. I was told that they would not assist me with anything financial on my home loan until I fell 90 days behind, though at the time I started to inquire for assistance from WFB I was only a few weeks behind. So, I began working with a program called XXXX. They approved me for a variety of assistence and reached out to Wells Fargo Bank to determine what they could assist with. Wells Fargo then turned down the assistance from XXXX and finally offered to do a Loan Modification for me. The outcome was totally unknow about what I would be offered in the end by WFB for assistance. Wells Fargo lost my paperwork twice during this process, so it took 2 months from the time I started to the time my paperwork b...  \n",
       "3                                                                                                                                                                                                                                                                                                                                                                                                                                                                                                                                                                               I have an open and current mortgage with Chase Bank # XXXX. Chase is reporting the loan payments to XXXX but XXXX is surpressing the information and reporting the loan as Discharged in BK. This mortgage was reaffirmed in a Chapter XXXX BK discharged dated XXXX/XXXX/2013. Chase keeps referring to BK Law for Chapter XXXX and we keep providing documentation for Chapter XXXX, and the account should be open and current with all the payments \\n  \n",
       "4  XXXX was submitted XX/XX/XXXX. At the time I submitted this complaint, I had dealt with Rushmore Mortgage directly endeavoring to get them to stop the continuous daily calls I was receiving trying to collect on a mortgage for which I was not responsible due to bankruptcy. They denied having knowledge of the bankruptcy, even though I had spoken with them about it repeatedly and had written them repeatedly referencing the bankruptcy requesting them to cease the pursuit, they continued to do so. When they were unable to trick me into paying, force me into paying in retaliation they placed reported to my credit bureaus a past due mortgage amount that had been discharged in Federal Court. On XX/XX/XXXX Rushmore responded the referenced complaint indicating that they would remove the reporting from my bureau, yet it is still there now in XX/XX/XXXX. I would like them to remove it immediately and send me a letter indicating that it should not have been there in the first place and they ar...  "
      ]
     },
     "execution_count": 6,
     "metadata": {},
     "output_type": "execute_result"
    }
   ],
   "source": [
    "df.head()"
   ]
  },
  {
   "cell_type": "code",
   "execution_count": 7,
   "metadata": {},
   "outputs": [
    {
     "data": {
      "text/plain": [
       "(66806, 3)"
      ]
     },
     "execution_count": 7,
     "metadata": {},
     "output_type": "execute_result"
    }
   ],
   "source": [
    "df['clean'] = df['consumer_complaint_narrative'].str.replace('X', '')\n",
    "df['clean'] = df['clean'].str.replace('\\n', '')\n",
    "\n",
    "df = df.dropna().drop_duplicates()\n",
    "df.shape\n"
   ]
  },
  {
   "cell_type": "code",
   "execution_count": 8,
   "metadata": {},
   "outputs": [
    {
     "data": {
      "text/html": [
       "<div>\n",
       "<style scoped>\n",
       "    .dataframe tbody tr th:only-of-type {\n",
       "        vertical-align: middle;\n",
       "    }\n",
       "\n",
       "    .dataframe tbody tr th {\n",
       "        vertical-align: top;\n",
       "    }\n",
       "\n",
       "    .dataframe thead th {\n",
       "        text-align: right;\n",
       "    }\n",
       "</style>\n",
       "<table border=\"1\" class=\"dataframe\">\n",
       "  <thead>\n",
       "    <tr style=\"text-align: right;\">\n",
       "      <th></th>\n",
       "      <th>clean</th>\n",
       "    </tr>\n",
       "  </thead>\n",
       "  <tbody>\n",
       "    <tr>\n",
       "      <th>0</th>\n",
       "      <td>has claimed I owe them {$27.00} for  years despite the PROOF of PAYMENT I sent them : canceled check and their ownPAID INVOICE for {$27.00}! They continue to insist I owe them and collection agencies are after me. How can I stop this harassment for a bill I already paid four years ago?</td>\n",
       "    </tr>\n",
       "    <tr>\n",
       "      <th>1</th>\n",
       "      <td>Due to inconsistencies in the amount owed that I was told by M &amp; T Bank and the amount that was reported to the credit reporting agencies, I was advised to write a good will letter in order to address the issue and request the negative entry be removed from my credit report all together. I had a vehicle that was stolen and it was declared a total loss by insurance company. The insurance company and the GAP insurancw companypaid the outstanding balance of the loan, but I was told by M &amp; T Bank that there was still a balance due on the loan. In good faith, without having received any proof as to why there was still a balance, I made a partial payment towards the remaining debt. I then sent the goodwill letter still offering to pay the remainder of the debt, but in exchange for the removal of the negative entry on my credit report. At one point, in  2015, per my credit monitoring agency, it showed a delinquent balance of {$0.00}, but when I checked my credit report again on   2015, th...</td>\n",
       "    </tr>\n",
       "    <tr>\n",
       "      <th>2</th>\n",
       "      <td>In // my wages that I earned at my job decreased by almost half, by // I knew I was in trouble with my home loan. I began contacting WFB whom my home loan is with, for assitance and options. In early // I began the Loan Modification process with Wells Fargo Bank. I was told that they would not assist me with anything financial on my home loan until I fell 90 days behind, though at the time I started to inquire for assistance from WFB I was only a few weeks behind. So, I began working with a program called . They approved me for a variety of assistence and reached out to Wells Fargo Bank to determine what they could assist with. Wells Fargo then turned down the assistance from  and finally offered to do a Loan Modification for me. The outcome was totally unknow about what I would be offered in the end by WFB for assistance. Wells Fargo lost my paperwork twice during this process, so it took 2 months from the time I started to the time my paperwork began to be processed for some kind...</td>\n",
       "    </tr>\n",
       "    <tr>\n",
       "      <th>3</th>\n",
       "      <td>I have an open and current mortgage with Chase Bank # . Chase is reporting the loan payments to  but  is surpressing the information and reporting the loan as Discharged in BK. This mortgage was reaffirmed in a Chapter  BK discharged dated //2013. Chase keeps referring to BK Law for Chapter  and we keep providing documentation for Chapter , and the account should be open and current with all the payments</td>\n",
       "    </tr>\n",
       "    <tr>\n",
       "      <th>4</th>\n",
       "      <td>was submitted //. At the time I submitted this complaint, I had dealt with Rushmore Mortgage directly endeavoring to get them to stop the continuous daily calls I was receiving trying to collect on a mortgage for which I was not responsible due to bankruptcy. They denied having knowledge of the bankruptcy, even though I had spoken with them about it repeatedly and had written them repeatedly referencing the bankruptcy requesting them to cease the pursuit, they continued to do so. When they were unable to trick me into paying, force me into paying in retaliation they placed reported to my credit bureaus a past due mortgage amount that had been discharged in Federal Court. On // Rushmore responded the referenced complaint indicating that they would remove the reporting from my bureau, yet it is still there now in //. I would like them to remove it immediately and send me a letter indicating that it should not have been there in the first place and they are going to remove it from al...</td>\n",
       "    </tr>\n",
       "  </tbody>\n",
       "</table>\n",
       "</div>"
      ],
      "text/plain": [
       "                                                                                                                                                                                                                                                                                                                                                                                                                                                                                                                                                                                                                                                                                                                                                                                                                                                                                                                                                                                                                                     clean\n",
       "0                                                                                                                                                                                                                                                                                                                                                                                                                                                                                                                                                                                                                                                                                                                                          has claimed I owe them {$27.00} for  years despite the PROOF of PAYMENT I sent them : canceled check and their ownPAID INVOICE for {$27.00}! They continue to insist I owe them and collection agencies are after me. How can I stop this harassment for a bill I already paid four years ago? \n",
       "1  Due to inconsistencies in the amount owed that I was told by M & T Bank and the amount that was reported to the credit reporting agencies, I was advised to write a good will letter in order to address the issue and request the negative entry be removed from my credit report all together. I had a vehicle that was stolen and it was declared a total loss by insurance company. The insurance company and the GAP insurancw companypaid the outstanding balance of the loan, but I was told by M & T Bank that there was still a balance due on the loan. In good faith, without having received any proof as to why there was still a balance, I made a partial payment towards the remaining debt. I then sent the goodwill letter still offering to pay the remainder of the debt, but in exchange for the removal of the negative entry on my credit report. At one point, in  2015, per my credit monitoring agency, it showed a delinquent balance of {$0.00}, but when I checked my credit report again on   2015, th...\n",
       "2  In // my wages that I earned at my job decreased by almost half, by // I knew I was in trouble with my home loan. I began contacting WFB whom my home loan is with, for assitance and options. In early // I began the Loan Modification process with Wells Fargo Bank. I was told that they would not assist me with anything financial on my home loan until I fell 90 days behind, though at the time I started to inquire for assistance from WFB I was only a few weeks behind. So, I began working with a program called . They approved me for a variety of assistence and reached out to Wells Fargo Bank to determine what they could assist with. Wells Fargo then turned down the assistance from  and finally offered to do a Loan Modification for me. The outcome was totally unknow about what I would be offered in the end by WFB for assistance. Wells Fargo lost my paperwork twice during this process, so it took 2 months from the time I started to the time my paperwork began to be processed for some kind...\n",
       "3                                                                                                                                                                                                                                                                                                                                                                                                                                                                                                                                                                                                                 I have an open and current mortgage with Chase Bank # . Chase is reporting the loan payments to  but  is surpressing the information and reporting the loan as Discharged in BK. This mortgage was reaffirmed in a Chapter  BK discharged dated //2013. Chase keeps referring to BK Law for Chapter  and we keep providing documentation for Chapter , and the account should be open and current with all the payments \n",
       "4   was submitted //. At the time I submitted this complaint, I had dealt with Rushmore Mortgage directly endeavoring to get them to stop the continuous daily calls I was receiving trying to collect on a mortgage for which I was not responsible due to bankruptcy. They denied having knowledge of the bankruptcy, even though I had spoken with them about it repeatedly and had written them repeatedly referencing the bankruptcy requesting them to cease the pursuit, they continued to do so. When they were unable to trick me into paying, force me into paying in retaliation they placed reported to my credit bureaus a past due mortgage amount that had been discharged in Federal Court. On // Rushmore responded the referenced complaint indicating that they would remove the reporting from my bureau, yet it is still there now in //. I would like them to remove it immediately and send me a letter indicating that it should not have been there in the first place and they are going to remove it from al..."
      ]
     },
     "execution_count": 8,
     "metadata": {},
     "output_type": "execute_result"
    }
   ],
   "source": [
    "df_clean= df[['clean']]\n",
    "df_clean.head()"
   ]
  },
  {
   "cell_type": "code",
   "execution_count": 9,
   "metadata": {},
   "outputs": [
    {
     "data": {
      "text/plain": [
       "' has claimed I owe them {$27.00} for  years despite the PROOF of PAYMENT I sent them : canceled check and their ownPAID INVOICE for {$27.00}! They continue to insist I owe them and collection agencies are after me. How can I stop this harassment for a bill I already paid four years ago? '"
      ]
     },
     "execution_count": 9,
     "metadata": {},
     "output_type": "execute_result"
    }
   ],
   "source": [
    "sentences = df_clean.clean.astype('str').tolist()\n",
    "sentences[0]"
   ]
  },
  {
   "cell_type": "code",
   "execution_count": 10,
   "metadata": {},
   "outputs": [],
   "source": [
    "tokenizer = RegexpTokenizer(r'\\w+')\n",
    "sentences_tokenized = [w.lower() for w in sentences]\n",
    "sentences_tokenized = [tokenizer.tokenize(i) for i in sentences_tokenized]"
   ]
  },
  {
   "cell_type": "code",
   "execution_count": 11,
   "metadata": {},
   "outputs": [
    {
     "data": {
      "text/plain": [
       "['has',\n",
       " 'claimed',\n",
       " 'i',\n",
       " 'owe',\n",
       " 'them',\n",
       " '27',\n",
       " '00',\n",
       " 'for',\n",
       " 'years',\n",
       " 'despite',\n",
       " 'the',\n",
       " 'proof',\n",
       " 'of',\n",
       " 'payment',\n",
       " 'i',\n",
       " 'sent',\n",
       " 'them',\n",
       " 'canceled',\n",
       " 'check',\n",
       " 'and',\n",
       " 'their',\n",
       " 'ownpaid',\n",
       " 'invoice',\n",
       " 'for',\n",
       " '27',\n",
       " '00',\n",
       " 'they',\n",
       " 'continue',\n",
       " 'to',\n",
       " 'insist',\n",
       " 'i',\n",
       " 'owe',\n",
       " 'them',\n",
       " 'and',\n",
       " 'collection',\n",
       " 'agencies',\n",
       " 'are',\n",
       " 'after',\n",
       " 'me',\n",
       " 'how',\n",
       " 'can',\n",
       " 'i',\n",
       " 'stop',\n",
       " 'this',\n",
       " 'harassment',\n",
       " 'for',\n",
       " 'a',\n",
       " 'bill',\n",
       " 'i',\n",
       " 'already',\n",
       " 'paid',\n",
       " 'four',\n",
       " 'years',\n",
       " 'ago']"
      ]
     },
     "execution_count": 11,
     "metadata": {},
     "output_type": "execute_result"
    }
   ],
   "source": [
    "sentences_tokenized[0]"
   ]
  },
  {
   "cell_type": "markdown",
   "metadata": {},
   "source": [
    "Most Frequent Words:"
   ]
  },
  {
   "cell_type": "code",
   "execution_count": 12,
   "metadata": {},
   "outputs": [
    {
     "data": {
      "text/plain": [
       "52406"
      ]
     },
     "execution_count": 12,
     "metadata": {},
     "output_type": "execute_result"
    }
   ],
   "source": [
    "word_freq = defaultdict(int)\n",
    "for sents in sentences_tokenized:\n",
    "    for i in sents:\n",
    "        word_freq[i] += 1\n",
    "len(word_freq)"
   ]
  },
  {
   "cell_type": "code",
   "execution_count": 13,
   "metadata": {},
   "outputs": [
    {
     "data": {
      "text/plain": [
       "4"
      ]
     },
     "execution_count": 13,
     "metadata": {},
     "output_type": "execute_result"
    }
   ],
   "source": [
    "cores = multiprocessing.cpu_count() # Count the number of cores in a computer\n",
    "cores"
   ]
  },
  {
   "cell_type": "code",
   "execution_count": 14,
   "metadata": {},
   "outputs": [],
   "source": [
    "w2v_model = Word2Vec(min_count=10,\n",
    "                     window=10,\n",
    "                     size=300,\n",
    "                     sample=6e-5, \n",
    "                     alpha=0.03, \n",
    "                     min_alpha=0.0007, \n",
    "                     negative=20,\n",
    "                     workers=cores-1)"
   ]
  },
  {
   "cell_type": "code",
   "execution_count": 15,
   "metadata": {},
   "outputs": [
    {
     "name": "stderr",
     "output_type": "stream",
     "text": [
      "INFO - 21:22:17: collecting all words and their counts\n",
      "INFO - 21:22:17: PROGRESS: at sentence #0, processed 0 words, keeping 0 word types\n",
      "INFO - 21:22:17: PROGRESS: at sentence #10000, processed 1814017 words, keeping 20805 word types\n",
      "INFO - 21:22:18: PROGRESS: at sentence #20000, processed 3578878 words, keeping 29018 word types\n",
      "INFO - 21:22:18: PROGRESS: at sentence #30000, processed 5368922 words, keeping 35660 word types\n",
      "INFO - 21:22:19: PROGRESS: at sentence #40000, processed 7188524 words, keeping 41580 word types\n",
      "INFO - 21:22:19: PROGRESS: at sentence #50000, processed 9005746 words, keeping 46476 word types\n",
      "INFO - 21:22:19: PROGRESS: at sentence #60000, processed 10792301 words, keeping 50097 word types\n",
      "INFO - 21:22:19: collected 52406 word types from a corpus of 12055423 raw words and 66806 sentences\n",
      "INFO - 21:22:19: Loading a fresh vocabulary\n",
      "INFO - 21:22:20: effective_min_count=10 retains 11539 unique words (22% of original 52406, drops 40867)\n",
      "INFO - 21:22:20: effective_min_count=10 leaves 11974187 word corpus (99% of original 12055423, drops 81236)\n",
      "INFO - 21:22:20: deleting the raw counts dictionary of 52406 items\n",
      "INFO - 21:22:20: sample=6e-05 downsamples 717 most-common words\n",
      "INFO - 21:22:20: downsampling leaves estimated 4050609 word corpus (33.8% of prior 11974187)\n",
      "INFO - 21:22:20: estimated required memory for 11539 words and 300 dimensions: 33463100 bytes\n",
      "INFO - 21:22:20: resetting layer weights\n"
     ]
    },
    {
     "name": "stdout",
     "output_type": "stream",
     "text": [
      "Time to build vocab: 0.05 mins\n"
     ]
    }
   ],
   "source": [
    "t = time()\n",
    "\n",
    "w2v_model.build_vocab(sentences_tokenized, progress_per=10000)\n",
    "\n",
    "print('Time to build vocab: {} mins'.format(round((time() - t) / 60, 2)))"
   ]
  },
  {
   "cell_type": "code",
   "execution_count": 16,
   "metadata": {
    "scrolled": true
   },
   "outputs": [
    {
     "name": "stderr",
     "output_type": "stream",
     "text": [
      "INFO - 21:22:20: training model with 3 workers on 11539 vocabulary and 300 features, using sg=0 hs=0 sample=6e-05 negative=20 window=10\n",
      "INFO - 21:22:21: EPOCH 1 - PROGRESS: at 4.54% examples, 181636 words/s, in_qsize 6, out_qsize 0\n",
      "INFO - 21:22:22: EPOCH 1 - PROGRESS: at 9.99% examples, 195257 words/s, in_qsize 5, out_qsize 0\n",
      "INFO - 21:22:23: EPOCH 1 - PROGRESS: at 15.64% examples, 204795 words/s, in_qsize 5, out_qsize 0\n",
      "INFO - 21:22:24: EPOCH 1 - PROGRESS: at 21.60% examples, 210782 words/s, in_qsize 5, out_qsize 0\n",
      "INFO - 21:22:25: EPOCH 1 - PROGRESS: at 27.22% examples, 213008 words/s, in_qsize 5, out_qsize 0\n",
      "INFO - 21:22:26: EPOCH 1 - PROGRESS: at 33.19% examples, 215395 words/s, in_qsize 5, out_qsize 0\n",
      "INFO - 21:22:27: EPOCH 1 - PROGRESS: at 38.79% examples, 216761 words/s, in_qsize 5, out_qsize 0\n",
      "INFO - 21:22:28: EPOCH 1 - PROGRESS: at 44.27% examples, 216999 words/s, in_qsize 5, out_qsize 0\n",
      "INFO - 21:22:29: EPOCH 1 - PROGRESS: at 49.33% examples, 215254 words/s, in_qsize 5, out_qsize 0\n",
      "INFO - 21:22:30: EPOCH 1 - PROGRESS: at 54.17% examples, 213804 words/s, in_qsize 5, out_qsize 0\n",
      "INFO - 21:22:31: EPOCH 1 - PROGRESS: at 59.21% examples, 213403 words/s, in_qsize 5, out_qsize 0\n",
      "INFO - 21:22:32: EPOCH 1 - PROGRESS: at 64.85% examples, 213946 words/s, in_qsize 5, out_qsize 0\n",
      "INFO - 21:22:33: EPOCH 1 - PROGRESS: at 70.15% examples, 213610 words/s, in_qsize 5, out_qsize 0\n",
      "INFO - 21:22:34: EPOCH 1 - PROGRESS: at 75.63% examples, 214743 words/s, in_qsize 5, out_qsize 0\n",
      "INFO - 21:22:35: EPOCH 1 - PROGRESS: at 81.06% examples, 215200 words/s, in_qsize 5, out_qsize 0\n",
      "INFO - 21:22:36: EPOCH 1 - PROGRESS: at 86.52% examples, 215296 words/s, in_qsize 5, out_qsize 0\n",
      "INFO - 21:22:37: EPOCH 1 - PROGRESS: at 92.20% examples, 215706 words/s, in_qsize 5, out_qsize 0\n",
      "INFO - 21:22:38: EPOCH 1 - PROGRESS: at 97.72% examples, 216641 words/s, in_qsize 5, out_qsize 0\n",
      "INFO - 21:22:39: worker thread finished; awaiting finish of 2 more threads\n",
      "INFO - 21:22:39: worker thread finished; awaiting finish of 1 more threads\n",
      "INFO - 21:22:39: worker thread finished; awaiting finish of 0 more threads\n",
      "INFO - 21:22:39: EPOCH - 1 : training on 12055423 raw words (4049014 effective words) took 18.7s, 216810 effective words/s\n",
      "INFO - 21:22:40: EPOCH 2 - PROGRESS: at 5.41% examples, 222665 words/s, in_qsize 5, out_qsize 0\n",
      "INFO - 21:22:41: EPOCH 2 - PROGRESS: at 11.12% examples, 225383 words/s, in_qsize 5, out_qsize 0\n",
      "INFO - 21:22:42: EPOCH 2 - PROGRESS: at 16.72% examples, 224935 words/s, in_qsize 5, out_qsize 0\n",
      "INFO - 21:22:43: EPOCH 2 - PROGRESS: at 22.51% examples, 224005 words/s, in_qsize 5, out_qsize 0\n",
      "INFO - 21:22:44: EPOCH 2 - PROGRESS: at 27.98% examples, 222638 words/s, in_qsize 5, out_qsize 0\n",
      "INFO - 21:22:45: EPOCH 2 - PROGRESS: at 33.68% examples, 222044 words/s, in_qsize 5, out_qsize 0\n",
      "INFO - 21:22:46: EPOCH 2 - PROGRESS: at 39.33% examples, 221987 words/s, in_qsize 5, out_qsize 0\n",
      "INFO - 21:22:47: EPOCH 2 - PROGRESS: at 44.42% examples, 219839 words/s, in_qsize 5, out_qsize 0\n",
      "INFO - 21:22:48: EPOCH 2 - PROGRESS: at 49.69% examples, 218747 words/s, in_qsize 5, out_qsize 0\n",
      "INFO - 21:22:49: EPOCH 2 - PROGRESS: at 55.12% examples, 219482 words/s, in_qsize 5, out_qsize 0\n",
      "INFO - 21:22:50: EPOCH 2 - PROGRESS: at 60.64% examples, 220042 words/s, in_qsize 5, out_qsize 0\n",
      "INFO - 21:22:51: EPOCH 2 - PROGRESS: at 66.26% examples, 220530 words/s, in_qsize 5, out_qsize 0\n",
      "INFO - 21:22:52: EPOCH 2 - PROGRESS: at 71.86% examples, 220978 words/s, in_qsize 5, out_qsize 0\n",
      "INFO - 21:22:53: EPOCH 2 - PROGRESS: at 77.29% examples, 221602 words/s, in_qsize 5, out_qsize 0\n",
      "INFO - 21:22:54: EPOCH 2 - PROGRESS: at 82.74% examples, 221665 words/s, in_qsize 5, out_qsize 0\n",
      "INFO - 21:22:55: EPOCH 2 - PROGRESS: at 88.58% examples, 221973 words/s, in_qsize 5, out_qsize 0\n",
      "INFO - 21:22:56: EPOCH 2 - PROGRESS: at 94.25% examples, 222408 words/s, in_qsize 5, out_qsize 0\n",
      "INFO - 21:22:57: EPOCH 2 - PROGRESS: at 99.73% examples, 222986 words/s, in_qsize 4, out_qsize 0\n",
      "INFO - 21:22:57: worker thread finished; awaiting finish of 2 more threads\n",
      "INFO - 21:22:57: worker thread finished; awaiting finish of 1 more threads\n",
      "INFO - 21:22:57: worker thread finished; awaiting finish of 0 more threads\n",
      "INFO - 21:22:57: EPOCH - 2 : training on 12055423 raw words (4051047 effective words) took 18.2s, 222873 effective words/s\n",
      "INFO - 21:22:58: EPOCH 3 - PROGRESS: at 5.51% examples, 224460 words/s, in_qsize 5, out_qsize 0\n",
      "INFO - 21:22:59: EPOCH 3 - PROGRESS: at 11.28% examples, 226881 words/s, in_qsize 5, out_qsize 0\n",
      "INFO - 21:23:00: EPOCH 3 - PROGRESS: at 16.99% examples, 226882 words/s, in_qsize 5, out_qsize 0\n",
      "INFO - 21:23:01: EPOCH 3 - PROGRESS: at 22.76% examples, 225591 words/s, in_qsize 5, out_qsize 0\n",
      "INFO - 21:23:02: EPOCH 3 - PROGRESS: at 28.22% examples, 223970 words/s, in_qsize 5, out_qsize 0\n",
      "INFO - 21:23:03: EPOCH 3 - PROGRESS: at 34.04% examples, 224400 words/s, in_qsize 5, out_qsize 0\n",
      "INFO - 21:23:04: EPOCH 3 - PROGRESS: at 39.33% examples, 222168 words/s, in_qsize 5, out_qsize 0\n",
      "INFO - 21:23:05: EPOCH 3 - PROGRESS: at 44.57% examples, 220896 words/s, in_qsize 5, out_qsize 0\n",
      "INFO - 21:23:06: EPOCH 3 - PROGRESS: at 50.01% examples, 220485 words/s, in_qsize 5, out_qsize 0\n",
      "INFO - 21:23:07: EPOCH 3 - PROGRESS: at 55.47% examples, 220895 words/s, in_qsize 5, out_qsize 0\n",
      "INFO - 21:23:08: EPOCH 3 - PROGRESS: at 60.98% examples, 221125 words/s, in_qsize 5, out_qsize 0\n",
      "INFO - 21:23:09: EPOCH 3 - PROGRESS: at 66.34% examples, 220882 words/s, in_qsize 5, out_qsize 0\n",
      "INFO - 21:23:10: EPOCH 3 - PROGRESS: at 72.00% examples, 221569 words/s, in_qsize 5, out_qsize 0\n",
      "INFO - 21:23:11: EPOCH 3 - PROGRESS: at 77.46% examples, 221928 words/s, in_qsize 5, out_qsize 0\n",
      "INFO - 21:23:12: EPOCH 3 - PROGRESS: at 83.02% examples, 222138 words/s, in_qsize 5, out_qsize 0\n",
      "INFO - 21:23:13: EPOCH 3 - PROGRESS: at 88.84% examples, 222615 words/s, in_qsize 5, out_qsize 0\n",
      "INFO - 21:23:14: EPOCH 3 - PROGRESS: at 94.39% examples, 222829 words/s, in_qsize 5, out_qsize 0\n",
      "INFO - 21:23:15: EPOCH 3 - PROGRESS: at 99.84% examples, 223279 words/s, in_qsize 2, out_qsize 1\n",
      "INFO - 21:23:15: worker thread finished; awaiting finish of 2 more threads\n",
      "INFO - 21:23:15: worker thread finished; awaiting finish of 1 more threads\n",
      "INFO - 21:23:15: worker thread finished; awaiting finish of 0 more threads\n",
      "INFO - 21:23:15: EPOCH - 3 : training on 12055423 raw words (4051823 effective words) took 18.1s, 223286 effective words/s\n",
      "INFO - 21:23:16: EPOCH 4 - PROGRESS: at 5.51% examples, 218546 words/s, in_qsize 5, out_qsize 0\n",
      "INFO - 21:23:17: EPOCH 4 - PROGRESS: at 11.28% examples, 224716 words/s, in_qsize 5, out_qsize 0\n",
      "INFO - 21:23:18: EPOCH 4 - PROGRESS: at 16.99% examples, 224666 words/s, in_qsize 5, out_qsize 0\n",
      "INFO - 21:23:19: EPOCH 4 - PROGRESS: at 22.92% examples, 225741 words/s, in_qsize 5, out_qsize 0\n",
      "INFO - 21:23:20: EPOCH 4 - PROGRESS: at 28.56% examples, 225026 words/s, in_qsize 5, out_qsize 0\n",
      "INFO - 21:23:21: EPOCH 4 - PROGRESS: at 34.56% examples, 226389 words/s, in_qsize 5, out_qsize 0\n",
      "INFO - 21:23:22: EPOCH 4 - PROGRESS: at 39.78% examples, 223593 words/s, in_qsize 5, out_qsize 0\n",
      "INFO - 21:23:23: EPOCH 4 - PROGRESS: at 45.15% examples, 222749 words/s, in_qsize 5, out_qsize 0\n",
      "INFO - 21:23:24: EPOCH 4 - PROGRESS: at 50.60% examples, 222183 words/s, in_qsize 5, out_qsize 0\n",
      "INFO - 21:23:25: EPOCH 4 - PROGRESS: at 55.86% examples, 221356 words/s, in_qsize 5, out_qsize 0\n",
      "INFO - 21:23:26: EPOCH 4 - PROGRESS: at 61.06% examples, 220761 words/s, in_qsize 5, out_qsize 0\n",
      "INFO - 21:23:27: EPOCH 4 - PROGRESS: at 66.58% examples, 220755 words/s, in_qsize 5, out_qsize 0\n",
      "INFO - 21:23:28: EPOCH 4 - PROGRESS: at 72.17% examples, 221254 words/s, in_qsize 5, out_qsize 0\n",
      "INFO - 21:23:29: EPOCH 4 - PROGRESS: at 77.77% examples, 221867 words/s, in_qsize 5, out_qsize 0\n",
      "INFO - 21:23:30: EPOCH 4 - PROGRESS: at 83.40% examples, 222231 words/s, in_qsize 5, out_qsize 0\n",
      "INFO - 21:23:31: EPOCH 4 - PROGRESS: at 89.22% examples, 222415 words/s, in_qsize 5, out_qsize 0\n",
      "INFO - 21:23:32: EPOCH 4 - PROGRESS: at 94.69% examples, 222691 words/s, in_qsize 5, out_qsize 0\n",
      "INFO - 21:23:33: worker thread finished; awaiting finish of 2 more threads\n",
      "INFO - 21:23:33: worker thread finished; awaiting finish of 1 more threads\n",
      "INFO - 21:23:33: worker thread finished; awaiting finish of 0 more threads\n",
      "INFO - 21:23:33: EPOCH - 4 : training on 12055423 raw words (4053324 effective words) took 18.2s, 223074 effective words/s\n",
      "INFO - 21:23:34: EPOCH 5 - PROGRESS: at 5.51% examples, 220083 words/s, in_qsize 5, out_qsize 0\n",
      "INFO - 21:23:35: EPOCH 5 - PROGRESS: at 11.28% examples, 225198 words/s, in_qsize 5, out_qsize 0\n",
      "INFO - 21:23:36: EPOCH 5 - PROGRESS: at 16.99% examples, 225442 words/s, in_qsize 5, out_qsize 0\n",
      "INFO - 21:23:37: EPOCH 5 - PROGRESS: at 22.92% examples, 225852 words/s, in_qsize 5, out_qsize 0\n",
      "INFO - 21:23:38: EPOCH 5 - PROGRESS: at 28.74% examples, 225337 words/s, in_qsize 5, out_qsize 0\n",
      "INFO - 21:23:39: EPOCH 5 - PROGRESS: at 34.65% examples, 225833 words/s, in_qsize 5, out_qsize 0\n",
      "INFO - 21:23:40: EPOCH 5 - PROGRESS: at 40.29% examples, 225501 words/s, in_qsize 5, out_qsize 0\n",
      "INFO - 21:23:41: EPOCH 5 - PROGRESS: at 46.04% examples, 225917 words/s, in_qsize 5, out_qsize 0\n",
      "INFO - 21:23:42: EPOCH 5 - PROGRESS: at 51.64% examples, 226035 words/s, in_qsize 5, out_qsize 0\n",
      "INFO - 21:23:43: EPOCH 5 - PROGRESS: at 57.30% examples, 226460 words/s, in_qsize 5, out_qsize 0\n",
      "INFO - 21:23:44: EPOCH 5 - PROGRESS: at 62.92% examples, 226178 words/s, in_qsize 5, out_qsize 0\n",
      "INFO - 21:23:45: EPOCH 5 - PROGRESS: at 68.58% examples, 226543 words/s, in_qsize 5, out_qsize 0\n",
      "INFO - 21:23:46: EPOCH 5 - PROGRESS: at 74.01% examples, 226751 words/s, in_qsize 5, out_qsize 0\n",
      "INFO - 21:23:47: EPOCH 5 - PROGRESS: at 79.68% examples, 227011 words/s, in_qsize 5, out_qsize 0\n",
      "INFO - 21:23:48: EPOCH 5 - PROGRESS: at 85.18% examples, 226715 words/s, in_qsize 5, out_qsize 0\n",
      "INFO - 21:23:49: EPOCH 5 - PROGRESS: at 91.19% examples, 226801 words/s, in_qsize 5, out_qsize 0\n",
      "INFO - 21:23:50: EPOCH 5 - PROGRESS: at 96.35% examples, 226446 words/s, in_qsize 4, out_qsize 1\n",
      "INFO - 21:23:51: worker thread finished; awaiting finish of 2 more threads\n",
      "INFO - 21:23:51: worker thread finished; awaiting finish of 1 more threads\n",
      "INFO - 21:23:51: worker thread finished; awaiting finish of 0 more threads\n",
      "INFO - 21:23:51: EPOCH - 5 : training on 12055423 raw words (4052009 effective words) took 17.9s, 226185 effective words/s\n",
      "INFO - 21:23:51: training on a 60277115 raw words (20257217 effective words) took 91.1s, 222339 effective words/s\n"
     ]
    },
    {
     "name": "stdout",
     "output_type": "stream",
     "text": [
      "Time to train the model: 1.52 mins\n"
     ]
    }
   ],
   "source": [
    "t = time()\n",
    "\n",
    "w2v_model.train(sentences_tokenized, total_examples=w2v_model.corpus_count, epochs=5, report_delay=1)\n",
    "\n",
    "print('Time to train the model: {} mins'.format(round((time() - t) / 60, 2)))"
   ]
  },
  {
   "cell_type": "code",
   "execution_count": 17,
   "metadata": {},
   "outputs": [
    {
     "name": "stderr",
     "output_type": "stream",
     "text": [
      "INFO - 21:23:51: storing 11539x300 projection weights into cfpb_generic_word2vec.model\n"
     ]
    }
   ],
   "source": [
    "# generic word2vec model\n",
    "w2v_model.wv.save_word2vec_format(\"cfpb_generic_word2vec.model\")"
   ]
  },
  {
   "cell_type": "code",
   "execution_count": 18,
   "metadata": {},
   "outputs": [
    {
     "name": "stderr",
     "output_type": "stream",
     "text": [
      "INFO - 21:23:54: precomputing L2-norms of word weight vectors\n",
      "C:\\Users\\alber\\Anaconda3\\lib\\site-packages\\gensim\\matutils.py:737: FutureWarning: Conversion of the second argument of issubdtype from `int` to `np.signedinteger` is deprecated. In future, it will be treated as `np.int32 == np.dtype(int).type`.\n",
      "  if np.issubdtype(vec.dtype, np.int):\n"
     ]
    },
    {
     "data": {
      "text/plain": [
       "[('deliquent', 0.7170357704162598),\n",
       " ('delinquency', 0.59906005859375),\n",
       " ('late', 0.5936636924743652),\n",
       " ('overdue', 0.5436649322509766),\n",
       " ('reported', 0.5293423533439636),\n",
       " ('delinquencies', 0.5287643671035767),\n",
       " ('missed', 0.49839580059051514),\n",
       " ('past', 0.4968588650226593),\n",
       " ('lates', 0.49249428510665894),\n",
       " ('due', 0.48416903614997864),\n",
       " ('120', 0.48219630122184753),\n",
       " ('derogatory', 0.47709208726882935),\n",
       " ('erroneously', 0.4717191457748413),\n",
       " ('partial', 0.4580209255218506),\n",
       " ('incorrectly', 0.45547181367874146),\n",
       " ('reflecting', 0.4457855820655823),\n",
       " ('unpaid', 0.4451330304145813),\n",
       " ('default', 0.44133076071739197),\n",
       " ('statuses', 0.4385424554347992),\n",
       " ('status', 0.43819600343704224)]"
      ]
     },
     "execution_count": 18,
     "metadata": {},
     "output_type": "execute_result"
    }
   ],
   "source": [
    "w2v_model.wv.most_similar(positive=[\"delinquent\"],topn=20)"
   ]
  },
  {
   "cell_type": "code",
   "execution_count": 19,
   "metadata": {},
   "outputs": [
    {
     "name": "stderr",
     "output_type": "stream",
     "text": [
      "C:\\Users\\alber\\Anaconda3\\lib\\site-packages\\gensim\\matutils.py:737: FutureWarning: Conversion of the second argument of issubdtype from `int` to `np.signedinteger` is deprecated. In future, it will be treated as `np.int32 == np.dtype(int).type`.\n",
      "  if np.issubdtype(vec.dtype, np.int):\n"
     ]
    },
    {
     "data": {
      "text/plain": [
       "[('modification', 0.8667501211166382),\n",
       " ('hamp', 0.7372881174087524),\n",
       " ('reapply', 0.7240679264068604),\n",
       " ('modifications', 0.7027243375778198),\n",
       " ('modified', 0.6796156167984009),\n",
       " ('trial', 0.6725947856903076),\n",
       " ('remodification', 0.6690160036087036),\n",
       " ('pkg', 0.6637154221534729),\n",
       " ('modify', 0.6528689861297607),\n",
       " ('resubmit', 0.6330093145370483),\n",
       " ('finalized', 0.623599648475647),\n",
       " ('packet', 0.6232447624206543),\n",
       " ('paperwork', 0.6183032989501953),\n",
       " ('permanent', 0.6139217019081116),\n",
       " ('modifying', 0.6106398105621338),\n",
       " ('rma', 0.6007360219955444),\n",
       " ('packets', 0.5978703498840332),\n",
       " ('docs', 0.5924543142318726),\n",
       " ('proposal', 0.5863274931907654),\n",
       " ('modifcation', 0.5836915373802185)]"
      ]
     },
     "execution_count": 19,
     "metadata": {},
     "output_type": "execute_result"
    }
   ],
   "source": [
    "w2v_model.wv.most_similar(positive=[\"mod\"],topn=20)"
   ]
  },
  {
   "cell_type": "code",
   "execution_count": 20,
   "metadata": {},
   "outputs": [
    {
     "name": "stderr",
     "output_type": "stream",
     "text": [
      "C:\\Users\\alber\\Anaconda3\\lib\\site-packages\\gensim\\matutils.py:737: FutureWarning: Conversion of the second argument of issubdtype from `int` to `np.signedinteger` is deprecated. In future, it will be treated as `np.int32 == np.dtype(int).type`.\n",
      "  if np.issubdtype(vec.dtype, np.int):\n"
     ]
    },
    {
     "data": {
      "text/plain": [
       "[('indiana', 0.7717363834381104),\n",
       " ('illinois', 0.7608502507209778),\n",
       " ('alabama', 0.7381572723388672),\n",
       " ('georgia', 0.7323154807090759),\n",
       " ('oklahoma', 0.7272956967353821),\n",
       " ('michigan', 0.7262011766433716),\n",
       " ('louisiana', 0.7190572023391724),\n",
       " ('maryland', 0.7189023494720459),\n",
       " ('kansas', 0.7176732420921326),\n",
       " ('minnesota', 0.7164055109024048),\n",
       " ('nevada', 0.7156771421432495),\n",
       " ('virginia', 0.7096671462059021),\n",
       " ('nj', 0.7053618431091309),\n",
       " ('pennsylvania', 0.6934981346130371),\n",
       " ('colorado', 0.6924794912338257),\n",
       " ('carolina', 0.6921257972717285),\n",
       " ('mississippi', 0.6917270421981812),\n",
       " ('south', 0.6907212734222412),\n",
       " ('ny', 0.6822537779808044),\n",
       " ('florida', 0.6807726621627808)]"
      ]
     },
     "execution_count": 20,
     "metadata": {},
     "output_type": "execute_result"
    }
   ],
   "source": [
    "w2v_model.wv.most_similar(positive=[\"ohio\"],topn=20)"
   ]
  },
  {
   "cell_type": "code",
   "execution_count": 21,
   "metadata": {},
   "outputs": [
    {
     "data": {
      "text/plain": [
       "11539"
      ]
     },
     "execution_count": 21,
     "metadata": {},
     "output_type": "execute_result"
    }
   ],
   "source": [
    "len(w2v_model.wv.vocab)"
   ]
  },
  {
   "cell_type": "code",
   "execution_count": null,
   "metadata": {},
   "outputs": [],
   "source": []
  }
 ],
 "metadata": {
  "kernelspec": {
   "display_name": "Python 3",
   "language": "python",
   "name": "python3"
  },
  "language_info": {
   "codemirror_mode": {
    "name": "ipython",
    "version": 3
   },
   "file_extension": ".py",
   "mimetype": "text/x-python",
   "name": "python",
   "nbconvert_exporter": "python",
   "pygments_lexer": "ipython3",
   "version": "3.6.5"
  }
 },
 "nbformat": 4,
 "nbformat_minor": 2
}
