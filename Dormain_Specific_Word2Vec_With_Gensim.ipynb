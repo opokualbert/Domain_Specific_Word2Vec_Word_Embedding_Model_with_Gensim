{
 "cells": [
  {
   "cell_type": "markdown",
   "metadata": {},
   "source": [
    "# Training dormain specific Word2Vec word embeddings with Gensim"
   ]
  },
  {
   "cell_type": "code",
   "execution_count": 2,
   "metadata": {},
   "outputs": [],
   "source": [
    "import re  # For preprocessing\n",
    "import pandas as pd  # For data handling\n",
    "from time import time  # To time our operations\n",
    "from collections import defaultdict  # For word frequency\n",
    "\n",
    "import spacy  # For preprocessing\n",
    "\n",
    "import logging  # Setting up the loggings to monitor gensim\n",
    "logging.basicConfig(format=\"%(levelname)s - %(asctime)s: %(message)s\", datefmt= '%H:%M:%S', level=logging.INFO)"
   ]
  },
  {
   "cell_type": "code",
   "execution_count": 3,
   "metadata": {},
   "outputs": [],
   "source": [
    "pd.set_option('max_colwidth', 1000)\n",
    "pd.options.display.max_rows = 500\n",
    "# Read file\n",
    "df = pd.read_pickle('df_orig.pkl')"
   ]
  },
  {
   "cell_type": "code",
   "execution_count": 4,
   "metadata": {},
   "outputs": [
    {
     "data": {
      "text/plain": [
       "(66806, 2)"
      ]
     },
     "execution_count": 4,
     "metadata": {},
     "output_type": "execute_result"
    }
   ],
   "source": [
    "df.shape"
   ]
  },
  {
   "cell_type": "code",
   "execution_count": 5,
   "metadata": {},
   "outputs": [
    {
     "data": {
      "text/html": [
       "<div>\n",
       "<style scoped>\n",
       "    .dataframe tbody tr th:only-of-type {\n",
       "        vertical-align: middle;\n",
       "    }\n",
       "\n",
       "    .dataframe tbody tr th {\n",
       "        vertical-align: top;\n",
       "    }\n",
       "\n",
       "    .dataframe thead th {\n",
       "        text-align: right;\n",
       "    }\n",
       "</style>\n",
       "<table border=\"1\" class=\"dataframe\">\n",
       "  <thead>\n",
       "    <tr style=\"text-align: right;\">\n",
       "      <th></th>\n",
       "      <th>Doc_Id</th>\n",
       "      <th>consumer_complaint_narrative</th>\n",
       "    </tr>\n",
       "  </thead>\n",
       "  <tbody>\n",
       "    <tr>\n",
       "      <th>190126</th>\n",
       "      <td>0</td>\n",
       "      <td>XXXX has claimed I owe them {$27.00} for XXXX years despite the PROOF of PAYMENT I sent them : canceled check and their ownPAID INVOICE for {$27.00}! \\nThey continue to insist I owe them and collection agencies are after me. \\nHow can I stop this harassment for a bill I already paid four years ago? \\n</td>\n",
       "    </tr>\n",
       "    <tr>\n",
       "      <th>190135</th>\n",
       "      <td>1</td>\n",
       "      <td>Due to inconsistencies in the amount owed that I was told by M &amp; T Bank and the amount that was reported to the credit reporting agencies, I was advised to write a good will letter in order to address the issue and request the negative entry be removed from my credit report all together. I had a vehicle that was stolen and it was declared a total loss by insurance company. The insurance company and the GAP insurancw companypaid the outstanding balance of the loan, but I was told by M &amp; T Bank that there was still a balance due on the loan. In good faith, without having received any proof as to why there was still a balance, I made a partial payment towards the remaining debt. I then sent the goodwill letter still offering to pay the remainder of the debt, but in exchange for the removal of the negative entry on my credit report. At one point, in XXXX 2015, per my credit monitoring agency, it showed a delinquent balance of {$0.00}, but when I checked my credit report again on XXXX X...</td>\n",
       "    </tr>\n",
       "    <tr>\n",
       "      <th>190155</th>\n",
       "      <td>2</td>\n",
       "      <td>In XX/XX/XXXX my wages that I earned at my job decreased by almost half, by XX/XX/XXXX I knew I was in trouble with my home loan. I began contacting WFB whom my home loan is with, for assitance and options. \\nIn early XX/XX/XXXX I began the Loan Modification process with Wells Fargo Bank. I was told that they would not assist me with anything financial on my home loan until I fell 90 days behind, though at the time I started to inquire for assistance from WFB I was only a few weeks behind. So, I began working with a program called XXXX. They approved me for a variety of assistence and reached out to Wells Fargo Bank to determine what they could assist with. Wells Fargo then turned down the assistance from XXXX and finally offered to do a Loan Modification for me. The outcome was totally unknow about what I would be offered in the end by WFB for assistance. Wells Fargo lost my paperwork twice during this process, so it took 2 months from the time I started to the time my paperwork b...</td>\n",
       "    </tr>\n",
       "    <tr>\n",
       "      <th>190207</th>\n",
       "      <td>3</td>\n",
       "      <td>I have an open and current mortgage with Chase Bank # XXXX. Chase is reporting the loan payments to XXXX but XXXX is surpressing the information and reporting the loan as Discharged in BK. This mortgage was reaffirmed in a Chapter XXXX BK discharged dated XXXX/XXXX/2013. Chase keeps referring to BK Law for Chapter XXXX and we keep providing documentation for Chapter XXXX, and the account should be open and current with all the payments \\n</td>\n",
       "    </tr>\n",
       "    <tr>\n",
       "      <th>190208</th>\n",
       "      <td>4</td>\n",
       "      <td>XXXX was submitted XX/XX/XXXX. At the time I submitted this complaint, I had dealt with Rushmore Mortgage directly endeavoring to get them to stop the continuous daily calls I was receiving trying to collect on a mortgage for which I was not responsible due to bankruptcy. They denied having knowledge of the bankruptcy, even though I had spoken with them about it repeatedly and had written them repeatedly referencing the bankruptcy requesting them to cease the pursuit, they continued to do so. When they were unable to trick me into paying, force me into paying in retaliation they placed reported to my credit bureaus a past due mortgage amount that had been discharged in Federal Court. On XX/XX/XXXX Rushmore responded the referenced complaint indicating that they would remove the reporting from my bureau, yet it is still there now in XX/XX/XXXX. I would like them to remove it immediately and send me a letter indicating that it should not have been there in the first place and they ar...</td>\n",
       "    </tr>\n",
       "  </tbody>\n",
       "</table>\n",
       "</div>"
      ],
      "text/plain": [
       "        Doc_Id  \\\n",
       "190126       0   \n",
       "190135       1   \n",
       "190155       2   \n",
       "190207       3   \n",
       "190208       4   \n",
       "\n",
       "                                                                                                                                                                                                                                                                                                                                                                                                                                                                                                                                                                                                                                                                                                                                                                                                                                                                                                                                                                                                                   consumer_complaint_narrative  \n",
       "190126                                                                                                                                                                                                                                                                                                                                                                                                                                                                                                                                                                                                                                                                                                                           XXXX has claimed I owe them {$27.00} for XXXX years despite the PROOF of PAYMENT I sent them : canceled check and their ownPAID INVOICE for {$27.00}! \\nThey continue to insist I owe them and collection agencies are after me. \\nHow can I stop this harassment for a bill I already paid four years ago? \\n  \n",
       "190135  Due to inconsistencies in the amount owed that I was told by M & T Bank and the amount that was reported to the credit reporting agencies, I was advised to write a good will letter in order to address the issue and request the negative entry be removed from my credit report all together. I had a vehicle that was stolen and it was declared a total loss by insurance company. The insurance company and the GAP insurancw companypaid the outstanding balance of the loan, but I was told by M & T Bank that there was still a balance due on the loan. In good faith, without having received any proof as to why there was still a balance, I made a partial payment towards the remaining debt. I then sent the goodwill letter still offering to pay the remainder of the debt, but in exchange for the removal of the negative entry on my credit report. At one point, in XXXX 2015, per my credit monitoring agency, it showed a delinquent balance of {$0.00}, but when I checked my credit report again on XXXX X...  \n",
       "190155  In XX/XX/XXXX my wages that I earned at my job decreased by almost half, by XX/XX/XXXX I knew I was in trouble with my home loan. I began contacting WFB whom my home loan is with, for assitance and options. \\nIn early XX/XX/XXXX I began the Loan Modification process with Wells Fargo Bank. I was told that they would not assist me with anything financial on my home loan until I fell 90 days behind, though at the time I started to inquire for assistance from WFB I was only a few weeks behind. So, I began working with a program called XXXX. They approved me for a variety of assistence and reached out to Wells Fargo Bank to determine what they could assist with. Wells Fargo then turned down the assistance from XXXX and finally offered to do a Loan Modification for me. The outcome was totally unknow about what I would be offered in the end by WFB for assistance. Wells Fargo lost my paperwork twice during this process, so it took 2 months from the time I started to the time my paperwork b...  \n",
       "190207                                                                                                                                                                                                                                                                                                                                                                                                                                                                                                                                                                               I have an open and current mortgage with Chase Bank # XXXX. Chase is reporting the loan payments to XXXX but XXXX is surpressing the information and reporting the loan as Discharged in BK. This mortgage was reaffirmed in a Chapter XXXX BK discharged dated XXXX/XXXX/2013. Chase keeps referring to BK Law for Chapter XXXX and we keep providing documentation for Chapter XXXX, and the account should be open and current with all the payments \\n  \n",
       "190208  XXXX was submitted XX/XX/XXXX. At the time I submitted this complaint, I had dealt with Rushmore Mortgage directly endeavoring to get them to stop the continuous daily calls I was receiving trying to collect on a mortgage for which I was not responsible due to bankruptcy. They denied having knowledge of the bankruptcy, even though I had spoken with them about it repeatedly and had written them repeatedly referencing the bankruptcy requesting them to cease the pursuit, they continued to do so. When they were unable to trick me into paying, force me into paying in retaliation they placed reported to my credit bureaus a past due mortgage amount that had been discharged in Federal Court. On XX/XX/XXXX Rushmore responded the referenced complaint indicating that they would remove the reporting from my bureau, yet it is still there now in XX/XX/XXXX. I would like them to remove it immediately and send me a letter indicating that it should not have been there in the first place and they ar...  "
      ]
     },
     "execution_count": 5,
     "metadata": {},
     "output_type": "execute_result"
    }
   ],
   "source": [
    "df.head()"
   ]
  },
  {
   "cell_type": "code",
   "execution_count": 6,
   "metadata": {},
   "outputs": [],
   "source": [
    "df=df.reset_index(drop=True)"
   ]
  },
  {
   "cell_type": "code",
   "execution_count": 7,
   "metadata": {},
   "outputs": [
    {
     "data": {
      "text/html": [
       "<div>\n",
       "<style scoped>\n",
       "    .dataframe tbody tr th:only-of-type {\n",
       "        vertical-align: middle;\n",
       "    }\n",
       "\n",
       "    .dataframe tbody tr th {\n",
       "        vertical-align: top;\n",
       "    }\n",
       "\n",
       "    .dataframe thead th {\n",
       "        text-align: right;\n",
       "    }\n",
       "</style>\n",
       "<table border=\"1\" class=\"dataframe\">\n",
       "  <thead>\n",
       "    <tr style=\"text-align: right;\">\n",
       "      <th></th>\n",
       "      <th>Doc_Id</th>\n",
       "      <th>consumer_complaint_narrative</th>\n",
       "    </tr>\n",
       "  </thead>\n",
       "  <tbody>\n",
       "    <tr>\n",
       "      <th>0</th>\n",
       "      <td>0</td>\n",
       "      <td>XXXX has claimed I owe them {$27.00} for XXXX years despite the PROOF of PAYMENT I sent them : canceled check and their ownPAID INVOICE for {$27.00}! \\nThey continue to insist I owe them and collection agencies are after me. \\nHow can I stop this harassment for a bill I already paid four years ago? \\n</td>\n",
       "    </tr>\n",
       "    <tr>\n",
       "      <th>1</th>\n",
       "      <td>1</td>\n",
       "      <td>Due to inconsistencies in the amount owed that I was told by M &amp; T Bank and the amount that was reported to the credit reporting agencies, I was advised to write a good will letter in order to address the issue and request the negative entry be removed from my credit report all together. I had a vehicle that was stolen and it was declared a total loss by insurance company. The insurance company and the GAP insurancw companypaid the outstanding balance of the loan, but I was told by M &amp; T Bank that there was still a balance due on the loan. In good faith, without having received any proof as to why there was still a balance, I made a partial payment towards the remaining debt. I then sent the goodwill letter still offering to pay the remainder of the debt, but in exchange for the removal of the negative entry on my credit report. At one point, in XXXX 2015, per my credit monitoring agency, it showed a delinquent balance of {$0.00}, but when I checked my credit report again on XXXX X...</td>\n",
       "    </tr>\n",
       "    <tr>\n",
       "      <th>2</th>\n",
       "      <td>2</td>\n",
       "      <td>In XX/XX/XXXX my wages that I earned at my job decreased by almost half, by XX/XX/XXXX I knew I was in trouble with my home loan. I began contacting WFB whom my home loan is with, for assitance and options. \\nIn early XX/XX/XXXX I began the Loan Modification process with Wells Fargo Bank. I was told that they would not assist me with anything financial on my home loan until I fell 90 days behind, though at the time I started to inquire for assistance from WFB I was only a few weeks behind. So, I began working with a program called XXXX. They approved me for a variety of assistence and reached out to Wells Fargo Bank to determine what they could assist with. Wells Fargo then turned down the assistance from XXXX and finally offered to do a Loan Modification for me. The outcome was totally unknow about what I would be offered in the end by WFB for assistance. Wells Fargo lost my paperwork twice during this process, so it took 2 months from the time I started to the time my paperwork b...</td>\n",
       "    </tr>\n",
       "    <tr>\n",
       "      <th>3</th>\n",
       "      <td>3</td>\n",
       "      <td>I have an open and current mortgage with Chase Bank # XXXX. Chase is reporting the loan payments to XXXX but XXXX is surpressing the information and reporting the loan as Discharged in BK. This mortgage was reaffirmed in a Chapter XXXX BK discharged dated XXXX/XXXX/2013. Chase keeps referring to BK Law for Chapter XXXX and we keep providing documentation for Chapter XXXX, and the account should be open and current with all the payments \\n</td>\n",
       "    </tr>\n",
       "    <tr>\n",
       "      <th>4</th>\n",
       "      <td>4</td>\n",
       "      <td>XXXX was submitted XX/XX/XXXX. At the time I submitted this complaint, I had dealt with Rushmore Mortgage directly endeavoring to get them to stop the continuous daily calls I was receiving trying to collect on a mortgage for which I was not responsible due to bankruptcy. They denied having knowledge of the bankruptcy, even though I had spoken with them about it repeatedly and had written them repeatedly referencing the bankruptcy requesting them to cease the pursuit, they continued to do so. When they were unable to trick me into paying, force me into paying in retaliation they placed reported to my credit bureaus a past due mortgage amount that had been discharged in Federal Court. On XX/XX/XXXX Rushmore responded the referenced complaint indicating that they would remove the reporting from my bureau, yet it is still there now in XX/XX/XXXX. I would like them to remove it immediately and send me a letter indicating that it should not have been there in the first place and they ar...</td>\n",
       "    </tr>\n",
       "  </tbody>\n",
       "</table>\n",
       "</div>"
      ],
      "text/plain": [
       "   Doc_Id  \\\n",
       "0       0   \n",
       "1       1   \n",
       "2       2   \n",
       "3       3   \n",
       "4       4   \n",
       "\n",
       "                                                                                                                                                                                                                                                                                                                                                                                                                                                                                                                                                                                                                                                                                                                                                                                                                                                                                                                                                                                                              consumer_complaint_narrative  \n",
       "0                                                                                                                                                                                                                                                                                                                                                                                                                                                                                                                                                                                                                                                                                                                           XXXX has claimed I owe them {$27.00} for XXXX years despite the PROOF of PAYMENT I sent them : canceled check and their ownPAID INVOICE for {$27.00}! \\nThey continue to insist I owe them and collection agencies are after me. \\nHow can I stop this harassment for a bill I already paid four years ago? \\n  \n",
       "1  Due to inconsistencies in the amount owed that I was told by M & T Bank and the amount that was reported to the credit reporting agencies, I was advised to write a good will letter in order to address the issue and request the negative entry be removed from my credit report all together. I had a vehicle that was stolen and it was declared a total loss by insurance company. The insurance company and the GAP insurancw companypaid the outstanding balance of the loan, but I was told by M & T Bank that there was still a balance due on the loan. In good faith, without having received any proof as to why there was still a balance, I made a partial payment towards the remaining debt. I then sent the goodwill letter still offering to pay the remainder of the debt, but in exchange for the removal of the negative entry on my credit report. At one point, in XXXX 2015, per my credit monitoring agency, it showed a delinquent balance of {$0.00}, but when I checked my credit report again on XXXX X...  \n",
       "2  In XX/XX/XXXX my wages that I earned at my job decreased by almost half, by XX/XX/XXXX I knew I was in trouble with my home loan. I began contacting WFB whom my home loan is with, for assitance and options. \\nIn early XX/XX/XXXX I began the Loan Modification process with Wells Fargo Bank. I was told that they would not assist me with anything financial on my home loan until I fell 90 days behind, though at the time I started to inquire for assistance from WFB I was only a few weeks behind. So, I began working with a program called XXXX. They approved me for a variety of assistence and reached out to Wells Fargo Bank to determine what they could assist with. Wells Fargo then turned down the assistance from XXXX and finally offered to do a Loan Modification for me. The outcome was totally unknow about what I would be offered in the end by WFB for assistance. Wells Fargo lost my paperwork twice during this process, so it took 2 months from the time I started to the time my paperwork b...  \n",
       "3                                                                                                                                                                                                                                                                                                                                                                                                                                                                                                                                                                               I have an open and current mortgage with Chase Bank # XXXX. Chase is reporting the loan payments to XXXX but XXXX is surpressing the information and reporting the loan as Discharged in BK. This mortgage was reaffirmed in a Chapter XXXX BK discharged dated XXXX/XXXX/2013. Chase keeps referring to BK Law for Chapter XXXX and we keep providing documentation for Chapter XXXX, and the account should be open and current with all the payments \\n  \n",
       "4  XXXX was submitted XX/XX/XXXX. At the time I submitted this complaint, I had dealt with Rushmore Mortgage directly endeavoring to get them to stop the continuous daily calls I was receiving trying to collect on a mortgage for which I was not responsible due to bankruptcy. They denied having knowledge of the bankruptcy, even though I had spoken with them about it repeatedly and had written them repeatedly referencing the bankruptcy requesting them to cease the pursuit, they continued to do so. When they were unable to trick me into paying, force me into paying in retaliation they placed reported to my credit bureaus a past due mortgage amount that had been discharged in Federal Court. On XX/XX/XXXX Rushmore responded the referenced complaint indicating that they would remove the reporting from my bureau, yet it is still there now in XX/XX/XXXX. I would like them to remove it immediately and send me a letter indicating that it should not have been there in the first place and they ar...  "
      ]
     },
     "execution_count": 7,
     "metadata": {},
     "output_type": "execute_result"
    }
   ],
   "source": [
    "df.head()"
   ]
  },
  {
   "cell_type": "code",
   "execution_count": 8,
   "metadata": {},
   "outputs": [],
   "source": [
    "nlp = spacy.load('en', disable=['ner', 'parser']) # disabling Named Entity Recognition for speed\n",
    "\n",
    "def cleaning(doc):\n",
    "    # Lemmatizes and removes stopwords\n",
    "    # doc needs to be a spacy Doc object\n",
    "#     txt = [token.lemma_ for token in doc if not token.is_stop]\n",
    "    txt = [token.lemma_ for token in doc]\n",
    "    # Word2Vec uses context words to learn the vector representation of a target word,\n",
    "    # if a sentence is only one or two words long,\n",
    "    # the benefit for the training is very small\n",
    "    if len(txt) > 2:\n",
    "        return ' '.join(txt)"
   ]
  },
  {
   "cell_type": "code",
   "execution_count": 9,
   "metadata": {},
   "outputs": [],
   "source": [
    "brief_cleaning = (re.sub(\"[^A-Za-z']+\", ' ', str(row)).lower() for row in df['consumer_complaint_narrative'])"
   ]
  },
  {
   "cell_type": "code",
   "execution_count": 10,
   "metadata": {},
   "outputs": [
    {
     "name": "stdout",
     "output_type": "stream",
     "text": [
      "Time to clean up everything: 8.91 mins\n"
     ]
    }
   ],
   "source": [
    "t = time()\n",
    "\n",
    "txt = [cleaning(doc) for doc in nlp.pipe(brief_cleaning, batch_size=5000, n_threads=-1)]\n",
    "\n",
    "print('Time to clean up everything: {} mins'.format(round((time() - t) / 60, 2)))"
   ]
  },
  {
   "cell_type": "code",
   "execution_count": 11,
   "metadata": {},
   "outputs": [
    {
     "data": {
      "text/plain": [
       "(65552, 1)"
      ]
     },
     "execution_count": 11,
     "metadata": {},
     "output_type": "execute_result"
    }
   ],
   "source": [
    "df_clean = pd.DataFrame({'clean': txt})\n",
    "df_clean = df_clean.dropna().drop_duplicates()\n",
    "df_clean.shape"
   ]
  },
  {
   "cell_type": "code",
   "execution_count": 12,
   "metadata": {},
   "outputs": [],
   "source": [
    "df_clean['clean'] = df_clean['clean'].str.replace('x', '')\n",
    "df_clean['clean'] = df_clean['clean'].str.replace('-PRON-', '')"
   ]
  },
  {
   "cell_type": "code",
   "execution_count": 13,
   "metadata": {},
   "outputs": [
    {
     "data": {
      "text/html": [
       "<div>\n",
       "<style scoped>\n",
       "    .dataframe tbody tr th:only-of-type {\n",
       "        vertical-align: middle;\n",
       "    }\n",
       "\n",
       "    .dataframe tbody tr th {\n",
       "        vertical-align: top;\n",
       "    }\n",
       "\n",
       "    .dataframe thead th {\n",
       "        text-align: right;\n",
       "    }\n",
       "</style>\n",
       "<table border=\"1\" class=\"dataframe\">\n",
       "  <thead>\n",
       "    <tr style=\"text-align: right;\">\n",
       "      <th></th>\n",
       "      <th>clean</th>\n",
       "    </tr>\n",
       "  </thead>\n",
       "  <tbody>\n",
       "    <tr>\n",
       "      <th>0</th>\n",
       "      <td>have claim i owe -PRON- for  year despite the proof of payment i send -PRON- cancel check and -PRON- ownpaid invoice for -PRON- continue to insist i owe -PRON- and collection agency be after -PRON- how can i stop this harassment for a bill i already pay four year ago</td>\n",
       "    </tr>\n",
       "    <tr>\n",
       "      <th>1</th>\n",
       "      <td>due to inconsistency in the amount owe that i be tell by m t bank and the amount that be report to the credit reporting agency i be advise to write a good will letter in order to address the issue and request the negative entry be remove from -PRON- credit report all together i have a vehicle that be steal and -PRON- be declare a total loss by insurance company the insurance company and the gap insurancw companypaid the outstanding balance of the loan but i be tell by m t bank that there be still a balance due on the loan in good faith without have receive any proof as to why there be still a balance i make a partial payment towards the remain debt i then send the goodwill letter still offer to pay the remainder of the debt but in echange for the removal of the negative entry on -PRON- credit report at one point in  per -PRON- credit monitoring agency -PRON- show a delinquent balance of but when i check -PRON- credit report again on   there be a delinquent balance of the monie from...</td>\n",
       "    </tr>\n",
       "    <tr>\n",
       "      <th>2</th>\n",
       "      <td>in    -PRON- wage that i earn at -PRON- job decrease by almost half by    i know i be in trouble with -PRON- home loan i begin contact wfb whom -PRON- home loan be with for assitance and option in early    i begin the loan modification process with well fargo bank i be tell that -PRON- would not assist -PRON- with anything financial on -PRON- home loan until i fall day behind though at the time i start to inquire for assistance from wfb i be only a few week behind so i begin work with a program call  -PRON- approve -PRON- for a variety of assistence and reach out to well fargo bank to determine what -PRON- could assist with well fargo then turn down the assistance from  and finally offer to do a loan modification for -PRON- the outcome be totally unknow about what i would be offer in the end by wfb for assistance well fargo lose -PRON- paperwork twice during this process so -PRON- take month from the time i start to the time -PRON- paperwork begin to be process for some kind of app...</td>\n",
       "    </tr>\n",
       "    <tr>\n",
       "      <th>3</th>\n",
       "      <td>i have an open and current mortgage with chase bank  chase be report the loan payment to  but  be surpresse the information and report the loan as discharge in bk this mortgage be reaffirm in a chapter  bk discharge date   chase keep refer to bk law for chapter  and -PRON- keep provide documentation for chapter  and the account should be open and current with all the payment</td>\n",
       "    </tr>\n",
       "    <tr>\n",
       "      <th>4</th>\n",
       "      <td>be submit    at the time i submit this complaint i have deal with rushmore mortgage directly endeavor to get -PRON- to stop the continuous daily call i be receive try to collect on a mortgage for which i be not responsible due to bankruptcy -PRON- deny have knowledge of the bankruptcy even though i have speak with -PRON- about -PRON- repeatedly and have write -PRON- repeatedly reference the bankruptcy request -PRON- to cease the pursuit -PRON- continue to do so when -PRON- be unable to trick -PRON- into pay force -PRON- into pay in retaliation -PRON- place report to -PRON- credit bureaus a past due mortgage amount that have be discharge in federal court on    rushmore respond the referenced complaint indicate that -PRON- would remove the reporting from -PRON- bureau yet -PRON- be still there now in    i would like -PRON- to remove -PRON- immediately and send -PRON- a letter indicate that -PRON- should not have be there in the first place and -PRON- be go to remove -PRON- from all ...</td>\n",
       "    </tr>\n",
       "  </tbody>\n",
       "</table>\n",
       "</div>"
      ],
      "text/plain": [
       "                                                                                                                                                                                                                                                                                                                                                                                                                                                                                                                                                                                                                                                                                                                                                                                                                                                                                                                                                                                                                                     clean\n",
       "0                                                                                                                                                                                                                                                                                                                                                                                                                                                                                                                                                                                                                                                                                                                                                              have claim i owe -PRON- for  year despite the proof of payment i send -PRON- cancel check and -PRON- ownpaid invoice for -PRON- continue to insist i owe -PRON- and collection agency be after -PRON- how can i stop this harassment for a bill i already pay four year ago\n",
       "1  due to inconsistency in the amount owe that i be tell by m t bank and the amount that be report to the credit reporting agency i be advise to write a good will letter in order to address the issue and request the negative entry be remove from -PRON- credit report all together i have a vehicle that be steal and -PRON- be declare a total loss by insurance company the insurance company and the gap insurancw companypaid the outstanding balance of the loan but i be tell by m t bank that there be still a balance due on the loan in good faith without have receive any proof as to why there be still a balance i make a partial payment towards the remain debt i then send the goodwill letter still offer to pay the remainder of the debt but in echange for the removal of the negative entry on -PRON- credit report at one point in  per -PRON- credit monitoring agency -PRON- show a delinquent balance of but when i check -PRON- credit report again on   there be a delinquent balance of the monie from...\n",
       "2  in    -PRON- wage that i earn at -PRON- job decrease by almost half by    i know i be in trouble with -PRON- home loan i begin contact wfb whom -PRON- home loan be with for assitance and option in early    i begin the loan modification process with well fargo bank i be tell that -PRON- would not assist -PRON- with anything financial on -PRON- home loan until i fall day behind though at the time i start to inquire for assistance from wfb i be only a few week behind so i begin work with a program call  -PRON- approve -PRON- for a variety of assistence and reach out to well fargo bank to determine what -PRON- could assist with well fargo then turn down the assistance from  and finally offer to do a loan modification for -PRON- the outcome be totally unknow about what i would be offer in the end by wfb for assistance well fargo lose -PRON- paperwork twice during this process so -PRON- take month from the time i start to the time -PRON- paperwork begin to be process for some kind of app...\n",
       "3                                                                                                                                                                                                                                                                                                                                                                                                                                                                                                                                                                                                                                                i have an open and current mortgage with chase bank  chase be report the loan payment to  but  be surpresse the information and report the loan as discharge in bk this mortgage be reaffirm in a chapter  bk discharge date   chase keep refer to bk law for chapter  and -PRON- keep provide documentation for chapter  and the account should be open and current with all the payment\n",
       "4   be submit    at the time i submit this complaint i have deal with rushmore mortgage directly endeavor to get -PRON- to stop the continuous daily call i be receive try to collect on a mortgage for which i be not responsible due to bankruptcy -PRON- deny have knowledge of the bankruptcy even though i have speak with -PRON- about -PRON- repeatedly and have write -PRON- repeatedly reference the bankruptcy request -PRON- to cease the pursuit -PRON- continue to do so when -PRON- be unable to trick -PRON- into pay force -PRON- into pay in retaliation -PRON- place report to -PRON- credit bureaus a past due mortgage amount that have be discharge in federal court on    rushmore respond the referenced complaint indicate that -PRON- would remove the reporting from -PRON- bureau yet -PRON- be still there now in    i would like -PRON- to remove -PRON- immediately and send -PRON- a letter indicate that -PRON- should not have be there in the first place and -PRON- be go to remove -PRON- from all ..."
      ]
     },
     "execution_count": 13,
     "metadata": {},
     "output_type": "execute_result"
    }
   ],
   "source": [
    "df_clean.head()"
   ]
  },
  {
   "cell_type": "code",
   "execution_count": 14,
   "metadata": {},
   "outputs": [
    {
     "name": "stderr",
     "output_type": "stream",
     "text": [
      "C:\\Users\\alber\\Anaconda3\\lib\\site-packages\\gensim\\utils.py:1212: UserWarning: detected Windows; aliasing chunkize to chunkize_serial\n",
      "  warnings.warn(\"detected Windows; aliasing chunkize to chunkize_serial\")\n",
      "INFO - 18:47:55: 'pattern' package not found; tag filters are not available for English\n"
     ]
    }
   ],
   "source": [
    "from gensim.models.phrases import Phrases, Phraser"
   ]
  },
  {
   "cell_type": "code",
   "execution_count": 35,
   "metadata": {},
   "outputs": [],
   "source": [
    "sent = [row.split() for row in df_clean['clean']]"
   ]
  },
  {
   "cell_type": "code",
   "execution_count": 37,
   "metadata": {},
   "outputs": [
    {
     "data": {
      "text/plain": [
       "['due',\n",
       " 'to',\n",
       " 'inconsistency',\n",
       " 'in',\n",
       " 'the',\n",
       " 'amount',\n",
       " 'owe',\n",
       " 'that',\n",
       " 'i',\n",
       " 'be',\n",
       " 'tell',\n",
       " 'by',\n",
       " 'm',\n",
       " 't',\n",
       " 'bank',\n",
       " 'and',\n",
       " 'the',\n",
       " 'amount',\n",
       " 'that',\n",
       " 'be',\n",
       " 'report',\n",
       " 'to',\n",
       " 'the',\n",
       " 'credit',\n",
       " 'reporting',\n",
       " 'agency',\n",
       " 'i',\n",
       " 'be',\n",
       " 'advise',\n",
       " 'to',\n",
       " 'write',\n",
       " 'a',\n",
       " 'good',\n",
       " 'will',\n",
       " 'letter',\n",
       " 'in',\n",
       " 'order',\n",
       " 'to',\n",
       " 'address',\n",
       " 'the',\n",
       " 'issue',\n",
       " 'and',\n",
       " 'request',\n",
       " 'the',\n",
       " 'negative',\n",
       " 'entry',\n",
       " 'be',\n",
       " 'remove',\n",
       " 'from',\n",
       " '-PRON-',\n",
       " 'credit',\n",
       " 'report',\n",
       " 'all',\n",
       " 'together',\n",
       " 'i',\n",
       " 'have',\n",
       " 'a',\n",
       " 'vehicle',\n",
       " 'that',\n",
       " 'be',\n",
       " 'steal',\n",
       " 'and',\n",
       " '-PRON-',\n",
       " 'be',\n",
       " 'declare',\n",
       " 'a',\n",
       " 'total',\n",
       " 'loss',\n",
       " 'by',\n",
       " 'insurance',\n",
       " 'company',\n",
       " 'the',\n",
       " 'insurance',\n",
       " 'company',\n",
       " 'and',\n",
       " 'the',\n",
       " 'gap',\n",
       " 'insurancw',\n",
       " 'companypaid',\n",
       " 'the',\n",
       " 'outstanding',\n",
       " 'balance',\n",
       " 'of',\n",
       " 'the',\n",
       " 'loan',\n",
       " 'but',\n",
       " 'i',\n",
       " 'be',\n",
       " 'tell',\n",
       " 'by',\n",
       " 'm',\n",
       " 't',\n",
       " 'bank',\n",
       " 'that',\n",
       " 'there',\n",
       " 'be',\n",
       " 'still',\n",
       " 'a',\n",
       " 'balance',\n",
       " 'due',\n",
       " 'on',\n",
       " 'the',\n",
       " 'loan',\n",
       " 'in',\n",
       " 'good',\n",
       " 'faith',\n",
       " 'without',\n",
       " 'have',\n",
       " 'receive',\n",
       " 'any',\n",
       " 'proof',\n",
       " 'as',\n",
       " 'to',\n",
       " 'why',\n",
       " 'there',\n",
       " 'be',\n",
       " 'still',\n",
       " 'a',\n",
       " 'balance',\n",
       " 'i',\n",
       " 'make',\n",
       " 'a',\n",
       " 'partial',\n",
       " 'payment',\n",
       " 'towards',\n",
       " 'the',\n",
       " 'remain',\n",
       " 'debt',\n",
       " 'i',\n",
       " 'then',\n",
       " 'send',\n",
       " 'the',\n",
       " 'goodwill',\n",
       " 'letter',\n",
       " 'still',\n",
       " 'offer',\n",
       " 'to',\n",
       " 'pay',\n",
       " 'the',\n",
       " 'remainder',\n",
       " 'of',\n",
       " 'the',\n",
       " 'debt',\n",
       " 'but',\n",
       " 'in',\n",
       " 'echange',\n",
       " 'for',\n",
       " 'the',\n",
       " 'removal',\n",
       " 'of',\n",
       " 'the',\n",
       " 'negative',\n",
       " 'entry',\n",
       " 'on',\n",
       " '-PRON-',\n",
       " 'credit',\n",
       " 'report',\n",
       " 'at',\n",
       " 'one',\n",
       " 'point',\n",
       " 'in',\n",
       " 'per',\n",
       " '-PRON-',\n",
       " 'credit',\n",
       " 'monitoring',\n",
       " 'agency',\n",
       " '-PRON-',\n",
       " 'show',\n",
       " 'a',\n",
       " 'delinquent',\n",
       " 'balance',\n",
       " 'of',\n",
       " 'but',\n",
       " 'when',\n",
       " 'i',\n",
       " 'check',\n",
       " '-PRON-',\n",
       " 'credit',\n",
       " 'report',\n",
       " 'again',\n",
       " 'on',\n",
       " 'there',\n",
       " 'be',\n",
       " 'a',\n",
       " 'delinquent',\n",
       " 'balance',\n",
       " 'of',\n",
       " 'the',\n",
       " 'monie',\n",
       " 'from',\n",
       " 'the',\n",
       " 'gap',\n",
       " 'insurance',\n",
       " 'and',\n",
       " '-PRON-',\n",
       " 'insurance',\n",
       " 'company',\n",
       " 'have',\n",
       " 'be',\n",
       " 'pay',\n",
       " 'm',\n",
       " 't',\n",
       " 'bank',\n",
       " 'say',\n",
       " 'that',\n",
       " 'i',\n",
       " 'still',\n",
       " 'owe',\n",
       " 'of',\n",
       " 'which',\n",
       " 'have',\n",
       " 'already',\n",
       " 'be',\n",
       " 'pay',\n",
       " 'i',\n",
       " 'contact',\n",
       " 'm',\n",
       " 't',\n",
       " 'bank',\n",
       " 'via',\n",
       " 'return',\n",
       " 'receipt',\n",
       " 'mail',\n",
       " 'but',\n",
       " 'i',\n",
       " 'have',\n",
       " 'not',\n",
       " 'be',\n",
       " 'give',\n",
       " 'the',\n",
       " 'courtesy',\n",
       " 'of',\n",
       " 'a',\n",
       " 'response',\n",
       " 'yet']"
      ]
     },
     "execution_count": 37,
     "metadata": {},
     "output_type": "execute_result"
    }
   ],
   "source": [
    "sent[1]"
   ]
  },
  {
   "cell_type": "code",
   "execution_count": 17,
   "metadata": {},
   "outputs": [],
   "source": [
    "# common_terms = [\"of\", \"with\", \"without\", \"and\", \"or\", \"the\", \"a\",\"on\"]"
   ]
  },
  {
   "cell_type": "code",
   "execution_count": 18,
   "metadata": {
    "scrolled": true
   },
   "outputs": [],
   "source": [
    "# phrases = Phrases(sent, min_count=30, common_terms=common_terms,progress_per=10000)"
   ]
  },
  {
   "cell_type": "code",
   "execution_count": 19,
   "metadata": {},
   "outputs": [],
   "source": [
    "# bigram = Phraser(phrases)"
   ]
  },
  {
   "cell_type": "code",
   "execution_count": 20,
   "metadata": {},
   "outputs": [],
   "source": [
    "# sentences = bigram[sent]\n",
    "sentences = sent"
   ]
  },
  {
   "cell_type": "markdown",
   "metadata": {},
   "source": [
    "Most Frequent Words:"
   ]
  },
  {
   "cell_type": "code",
   "execution_count": 21,
   "metadata": {},
   "outputs": [
    {
     "data": {
      "text/plain": [
       "42264"
      ]
     },
     "execution_count": 21,
     "metadata": {},
     "output_type": "execute_result"
    }
   ],
   "source": [
    "word_freq = defaultdict(int)\n",
    "for sents in sentences:\n",
    "    for i in sents:\n",
    "        word_freq[i] += 1\n",
    "len(word_freq)"
   ]
  },
  {
   "cell_type": "code",
   "execution_count": 22,
   "metadata": {},
   "outputs": [
    {
     "data": {
      "text/plain": [
       "['-PRON-',\n",
       " 'the',\n",
       " 'be',\n",
       " 'i',\n",
       " 'to',\n",
       " 'and',\n",
       " 'a',\n",
       " 'have',\n",
       " 'of',\n",
       " 'that',\n",
       " 'in',\n",
       " 'on',\n",
       " 'not',\n",
       " 'for',\n",
       " 'this',\n",
       " 'with',\n",
       " 'do',\n",
       " 'credit',\n",
       " 'account',\n",
       " 'from']"
      ]
     },
     "execution_count": 22,
     "metadata": {},
     "output_type": "execute_result"
    }
   ],
   "source": [
    "sorted(word_freq, key=word_freq.get, reverse=True)[:20]"
   ]
  },
  {
   "cell_type": "code",
   "execution_count": 23,
   "metadata": {},
   "outputs": [],
   "source": [
    "import multiprocessing\n",
    "\n",
    "from gensim.models import Word2Vec"
   ]
  },
  {
   "cell_type": "code",
   "execution_count": 24,
   "metadata": {},
   "outputs": [],
   "source": [
    "cores = multiprocessing.cpu_count() # Count the number of cores in a computer"
   ]
  },
  {
   "cell_type": "code",
   "execution_count": 25,
   "metadata": {},
   "outputs": [],
   "source": [
    "w2v_model = Word2Vec(min_count=10,\n",
    "                     window=10,\n",
    "                     size=300,\n",
    "                     sample=6e-5, \n",
    "                     alpha=0.03, \n",
    "                     min_alpha=0.0007, \n",
    "                     negative=20,\n",
    "                     workers=cores-1)"
   ]
  },
  {
   "cell_type": "code",
   "execution_count": 26,
   "metadata": {},
   "outputs": [
    {
     "name": "stderr",
     "output_type": "stream",
     "text": [
      "INFO - 18:47:59: collecting all words and their counts\n",
      "INFO - 18:47:59: PROGRESS: at sentence #0, processed 0 words, keeping 0 word types\n",
      "INFO - 18:47:59: PROGRESS: at sentence #10000, processed 1803416 words, keeping 15919 word types\n",
      "INFO - 18:47:59: PROGRESS: at sentence #20000, processed 3551751 words, keeping 22768 word types\n",
      "INFO - 18:47:59: PROGRESS: at sentence #30000, processed 5326612 words, keeping 28437 word types\n",
      "INFO - 18:48:00: PROGRESS: at sentence #40000, processed 7134604 words, keeping 33589 word types\n",
      "INFO - 18:48:00: PROGRESS: at sentence #50000, processed 8937295 words, keeping 37562 word types\n",
      "INFO - 18:48:00: PROGRESS: at sentence #60000, processed 10713387 words, keeping 40692 word types\n",
      "INFO - 18:48:01: collected 42264 word types from a corpus of 11741263 raw words and 65552 sentences\n",
      "INFO - 18:48:01: Loading a fresh vocabulary\n",
      "INFO - 18:48:01: effective_min_count=10 retains 8204 unique words (19% of original 42264, drops 34060)\n",
      "INFO - 18:48:01: effective_min_count=10 leaves 11676135 word corpus (99% of original 11741263, drops 65128)\n",
      "INFO - 18:48:01: deleting the raw counts dictionary of 42264 items\n",
      "INFO - 18:48:01: sample=6e-05 downsamples 621 most-common words\n",
      "INFO - 18:48:01: downsampling leaves estimated 3248652 word corpus (27.8% of prior 11676135)\n",
      "INFO - 18:48:01: estimated required memory for 8204 words and 300 dimensions: 23791600 bytes\n",
      "INFO - 18:48:01: resetting layer weights\n"
     ]
    },
    {
     "name": "stdout",
     "output_type": "stream",
     "text": [
      "Time to build vocab: 0.04 mins\n"
     ]
    }
   ],
   "source": [
    "t = time()\n",
    "\n",
    "w2v_model.build_vocab(sentences, progress_per=10000)\n",
    "\n",
    "print('Time to build vocab: {} mins'.format(round((time() - t) / 60, 2)))"
   ]
  },
  {
   "cell_type": "code",
   "execution_count": 27,
   "metadata": {
    "scrolled": true
   },
   "outputs": [
    {
     "name": "stderr",
     "output_type": "stream",
     "text": [
      "INFO - 18:48:01: training model with 3 workers on 8204 vocabulary and 300 features, using sg=0 hs=0 sample=6e-05 negative=20 window=10\n",
      "INFO - 18:48:02: EPOCH 1 - PROGRESS: at 6.78% examples, 220008 words/s, in_qsize 5, out_qsize 0\n",
      "INFO - 18:48:03: EPOCH 1 - PROGRESS: at 13.28% examples, 212123 words/s, in_qsize 5, out_qsize 0\n",
      "INFO - 18:48:04: EPOCH 1 - PROGRESS: at 19.31% examples, 203712 words/s, in_qsize 5, out_qsize 0\n",
      "INFO - 18:48:05: EPOCH 1 - PROGRESS: at 26.48% examples, 208599 words/s, in_qsize 5, out_qsize 0\n",
      "INFO - 18:48:06: EPOCH 1 - PROGRESS: at 33.65% examples, 211100 words/s, in_qsize 5, out_qsize 0\n",
      "INFO - 18:48:07: EPOCH 1 - PROGRESS: at 40.49% examples, 212550 words/s, in_qsize 5, out_qsize 0\n",
      "INFO - 18:48:08: EPOCH 1 - PROGRESS: at 47.33% examples, 213556 words/s, in_qsize 5, out_qsize 0\n",
      "INFO - 18:48:09: EPOCH 1 - PROGRESS: at 54.02% examples, 214213 words/s, in_qsize 5, out_qsize 0\n",
      "INFO - 18:48:10: EPOCH 1 - PROGRESS: at 60.84% examples, 215000 words/s, in_qsize 5, out_qsize 0\n",
      "INFO - 18:48:11: EPOCH 1 - PROGRESS: at 67.58% examples, 214994 words/s, in_qsize 5, out_qsize 0\n",
      "INFO - 18:48:12: EPOCH 1 - PROGRESS: at 74.13% examples, 215048 words/s, in_qsize 5, out_qsize 0\n",
      "INFO - 18:48:13: EPOCH 1 - PROGRESS: at 80.42% examples, 213918 words/s, in_qsize 5, out_qsize 0\n",
      "INFO - 18:48:14: EPOCH 1 - PROGRESS: at 86.94% examples, 213454 words/s, in_qsize 5, out_qsize 0\n",
      "INFO - 18:48:15: EPOCH 1 - PROGRESS: at 93.18% examples, 212636 words/s, in_qsize 5, out_qsize 0\n",
      "INFO - 18:48:16: EPOCH 1 - PROGRESS: at 99.25% examples, 212120 words/s, in_qsize 5, out_qsize 0\n",
      "INFO - 18:48:16: worker thread finished; awaiting finish of 2 more threads\n",
      "INFO - 18:48:16: worker thread finished; awaiting finish of 1 more threads\n",
      "INFO - 18:48:16: worker thread finished; awaiting finish of 0 more threads\n",
      "INFO - 18:48:16: EPOCH - 1 : training on 11741263 raw words (3248457 effective words) took 15.3s, 212057 effective words/s\n",
      "INFO - 18:48:16: training on a 11741263 raw words (3248457 effective words) took 15.3s, 211954 effective words/s\n"
     ]
    },
    {
     "name": "stdout",
     "output_type": "stream",
     "text": [
      "Time to train the model: 0.26 mins\n"
     ]
    }
   ],
   "source": [
    "t = time()\n",
    "\n",
    "w2v_model.train(sentences, total_examples=w2v_model.corpus_count, epochs=1, report_delay=1)\n",
    "\n",
    "print('Time to train the model: {} mins'.format(round((time() - t) / 60, 2)))"
   ]
  },
  {
   "cell_type": "code",
   "execution_count": 40,
   "metadata": {},
   "outputs": [
    {
     "name": "stderr",
     "output_type": "stream",
     "text": [
      "INFO - 19:29:29: storing 8204x300 projection weights into cfpb_generic_word2vec.model\n"
     ]
    }
   ],
   "source": [
    "# generic word2vec model\n",
    "w2v_model.wv.save_word2vec_format(\"cfpb_generic_word2vec.model\")"
   ]
  },
  {
   "cell_type": "code",
   "execution_count": 43,
   "metadata": {},
   "outputs": [
    {
     "name": "stderr",
     "output_type": "stream",
     "text": [
      "C:\\Users\\alber\\Anaconda3\\lib\\site-packages\\gensim\\matutils.py:737: FutureWarning: Conversion of the second argument of issubdtype from `int` to `np.signedinteger` is deprecated. In future, it will be treated as `np.int32 == np.dtype(int).type`.\n",
      "  if np.issubdtype(vec.dtype, np.int):\n"
     ]
    },
    {
     "data": {
      "text/plain": [
       "[('past', 0.8786083459854126),\n",
       " ('delinquency', 0.8634366393089294),\n",
       " ('due', 0.85023432970047),\n",
       " ('current', 0.8459511399269104),\n",
       " ('remain', 0.8451446890830994),\n",
       " ('reflect', 0.839966356754303),\n",
       " ('full', 0.8087552785873413),\n",
       " ('seven', 0.8065049052238464),\n",
       " ('unpaid', 0.8056871891021729),\n",
       " ('late', 0.8025687336921692),\n",
       " ('payment', 0.8020836710929871),\n",
       " ('installment', 0.8004365563392639),\n",
       " ('although', 0.8001413345336914),\n",
       " ('forgive', 0.7789462804794312),\n",
       " ('adjust', 0.7732735276222229),\n",
       " ('monthly', 0.7648977041244507),\n",
       " ('incorrectly', 0.7529599666595459),\n",
       " ('which', 0.7499921321868896),\n",
       " ('si', 0.7421281337738037),\n",
       " ('mark', 0.7374648451805115)]"
      ]
     },
     "execution_count": 43,
     "metadata": {},
     "output_type": "execute_result"
    }
   ],
   "source": [
    "w2v_model.wv.most_similar(positive=[\"delinquent\"],topn=20)"
   ]
  },
  {
   "cell_type": "code",
   "execution_count": 39,
   "metadata": {},
   "outputs": [
    {
     "name": "stderr",
     "output_type": "stream",
     "text": [
      "C:\\Users\\alber\\Anaconda3\\lib\\site-packages\\gensim\\matutils.py:737: FutureWarning: Conversion of the second argument of issubdtype from `int` to `np.signedinteger` is deprecated. In future, it will be treated as `np.int32 == np.dtype(int).type`.\n",
      "  if np.issubdtype(vec.dtype, np.int):\n"
     ]
    },
    {
     "data": {
      "text/plain": [
       "[('modification', 0.9357266426086426),\n",
       " ('caliber', 0.9327195882797241),\n",
       " ('underwriter', 0.9135488271713257),\n",
       " ('bsi', 0.9116531610488892),\n",
       " ('trial', 0.9059758186340332),\n",
       " ('flagstar', 0.9036935567855835),\n",
       " ('counselor', 0.8907279968261719),\n",
       " ('postpone', 0.8878750205039978),\n",
       " ('process', 0.8874344825744629),\n",
       " ('underwriting', 0.8843114972114563),\n",
       " ('permanent', 0.8815696239471436),\n",
       " ('hamp', 0.881142258644104),\n",
       " ('approval', 0.8747977018356323),\n",
       " ('hud', 0.8693662285804749),\n",
       " ('finalize', 0.8624701499938965),\n",
       " ('modify', 0.8597497940063477),\n",
       " ('fha', 0.8594725728034973),\n",
       " ('short', 0.8579661250114441),\n",
       " ('selene', 0.8526699542999268),\n",
       " ('docs', 0.8470214009284973)]"
      ]
     },
     "execution_count": 39,
     "metadata": {},
     "output_type": "execute_result"
    }
   ],
   "source": [
    "w2v_model.wv.most_similar(positive=[\"mod\"],topn=20)"
   ]
  },
  {
   "cell_type": "code",
   "execution_count": 32,
   "metadata": {},
   "outputs": [
    {
     "name": "stderr",
     "output_type": "stream",
     "text": [
      "C:\\Users\\alber\\Anaconda3\\lib\\site-packages\\gensim\\matutils.py:737: FutureWarning: Conversion of the second argument of issubdtype from `int` to `np.signedinteger` is deprecated. In future, it will be treated as `np.int32 == np.dtype(int).type`.\n",
      "  if np.issubdtype(vec.dtype, np.int):\n"
     ]
    },
    {
     "data": {
      "text/plain": [
       "[('foreclose', 0.9448155164718628),\n",
       " ('lieu', 0.9432709217071533),\n",
       " ('sale', 0.8881224393844604),\n",
       " ('caliber', 0.8782910704612732),\n",
       " ('citimortgage', 0.8733816146850586),\n",
       " ('trustee', 0.8587684035301208),\n",
       " ('investor', 0.8553109169006348),\n",
       " ('deed', 0.852775514125824),\n",
       " ('postpone', 0.8508062958717346),\n",
       " ('hud', 0.8505468964576721),\n",
       " ('mediation', 0.8452327847480774),\n",
       " ('appeal', 0.8379994630813599),\n",
       " ('sps', 0.8352752923965454),\n",
       " ('motion', 0.8312446475028992),\n",
       " ('short', 0.8286450505256653),\n",
       " ('grant', 0.8284305334091187),\n",
       " ('counselor', 0.8217655420303345),\n",
       " ('hearing', 0.8212093114852905),\n",
       " ('mod', 0.8187493085861206),\n",
       " ('nationstar', 0.8150159120559692)]"
      ]
     },
     "execution_count": 32,
     "metadata": {},
     "output_type": "execute_result"
    }
   ],
   "source": [
    "w2v_model.wv.most_similar(positive=[\"foreclosure\"],topn=20)"
   ]
  },
  {
   "cell_type": "code",
   "execution_count": 38,
   "metadata": {},
   "outputs": [
    {
     "data": {
      "text/plain": [
       "8204"
      ]
     },
     "execution_count": 38,
     "metadata": {},
     "output_type": "execute_result"
    }
   ],
   "source": [
    "len(w2v_model.wv.vocab)"
   ]
  },
  {
   "cell_type": "code",
   "execution_count": null,
   "metadata": {},
   "outputs": [],
   "source": []
  }
 ],
 "metadata": {
  "kernelspec": {
   "display_name": "Python 3",
   "language": "python",
   "name": "python3"
  },
  "language_info": {
   "codemirror_mode": {
    "name": "ipython",
    "version": 3
   },
   "file_extension": ".py",
   "mimetype": "text/x-python",
   "name": "python",
   "nbconvert_exporter": "python",
   "pygments_lexer": "ipython3",
   "version": "3.6.5"
  }
 },
 "nbformat": 4,
 "nbformat_minor": 2
}
